{
 "cells": [
  {
   "cell_type": "markdown",
   "metadata": {},
   "source": [
    "# JOBSHEET 11. ARRAY 2"
   ]
  },
  {
   "cell_type": "markdown",
   "metadata": {},
   "source": [
    "## Purpose\n",
    "* Students are able to understand the creation of two-dimensional arrays\n",
    "* Students are able to complete case studies using two-dimensional arrays"
   ]
  },
  {
   "cell_type": "markdown",
   "metadata": {},
   "source": [
    "## Tools and materials\n",
    "* PC/Laptop\n",
    "* Browsers\n",
    "* Internet connection\n",
    "* Anaconda3 + Java kernel (optional)"
   ]
  },
  {
   "cell_type": "markdown",
   "metadata": {},
   "source": [
    "## Practicum"
   ]
  },
  {
   "cell_type": "markdown",
   "metadata": {},
   "source": [
    "### Experiment 1: Declaring, Initializing, and Displaying 2-Dimensional Arrays\n",
    "In Experiment 1, the program code created was used to store the practicum scores of 2 students in 3 different courses.\n",
    "1. Create an array of type **integer** with the name **score** with a row capacity of 2 elements (stating the number of students) and a column of 3 elements (stating the number of courses)\n",
    "![Image 1](images/code1.png)"
   ]
  },
  {
   "cell_type": "code",
   "execution_count": null,
   "metadata": {},
   "outputs": [],
   "source": [
    "// Write down the code for Experiment 1 Step 1\n"
   ]
  },
  {
   "cell_type": "markdown",
   "metadata": {},
   "source": [
    "2. Fill in each array element **score** as follows:\n",
    "![Picture 2](images/code2.png)"
   ]
  },
  {
   "cell_type": "code",
   "execution_count": null,
   "metadata": {},
   "outputs": [],
   "source": [
    "// Write down the code for Experiment 1 Step 2\n"
   ]
  },
  {
   "cell_type": "markdown",
   "metadata": {},
   "source": [
    "3. Display all the contents of the array element **score**\n",
    "![Image 3](images/code3.png)"
   ]
  },
  {
   "cell_type": "code",
   "execution_count": 1,
   "metadata": {},
   "outputs": [],
   "source": [
    "// Write down the code for Experiment 1 Step 2\n"
   ]
  },
  {
   "cell_type": "markdown",
   "metadata": {},
   "source": [
    "#### Question\n",
    "1. Does the array elements have to be filled sequentially starting from index 0? Explain!"
   ]
  },
  {
   "cell_type": "code",
   "execution_count": null,
   "metadata": {},
   "outputs": [],
   "source": [
    "// Write down answer number 1\n"
   ]
  },
  {
   "cell_type": "markdown",
   "metadata": {},
   "source": [
    "2. Modify Experiment 1 Step 3 to display all array elements **score** using *for* loop"
   ]
  },
  {
   "cell_type": "code",
   "execution_count": null,
   "metadata": {},
   "outputs": [],
   "source": [
    "// Write down answer number 2\n"
   ]
  },
  {
   "cell_type": "markdown",
   "metadata": {},
   "source": [
    "### Experiment 2: Filling 2D Array Elements Using Keyboard Input\n",
    "In Experiment 2, the program code created was used to store the rating values of restaurants registered in an online food ordering application. Rating given by 4 users to 2 listed restaurants.\n",
    "1. Import and declare Scanner with name **sc**\n",
    "![Image 4](images/code4.png)"
   ]
  },
  {
   "cell_type": "code",
   "execution_count": null,
   "metadata": {},
   "outputs": [],
   "source": [
    "// Write the code for the 2-Step Experiment 1\n"
   ]
  },
  {
   "cell_type": "markdown",
   "metadata": {},
   "source": [
    "2. Create an array of type **integer** with the name **rating** with a row capacity of 4 elements (stating the number of users) and a column of 2 elements (stating the number of restaurants)\n",
    "![Image 5](images/code5.png)"
   ]
  },
  {
   "cell_type": "code",
   "execution_count": null,
   "metadata": {},
   "outputs": [],
   "source": [
    "// Write the code for Experiment 2 Step 2\n"
   ]
  },
  {
   "cell_type": "markdown",
   "metadata": {},
   "source": [
    "3. Using *for* loop, create input to fill array element **rating**\n",
    "![Image 6](images/code6.png)"
   ]
  },
  {
   "cell_type": "code",
   "execution_count": null,
   "metadata": {},
   "outputs": [],
   "source": [
    "// Write the code for Experiment 2 Step 3\n"
   ]
  },
  {
   "cell_type": "markdown",
   "metadata": {},
   "source": [
    "4. Using the *for-each* loop, display all the contents of the array **rating**\n",
    "![Image 7](images/code7.png)"
   ]
  },
  {
   "cell_type": "code",
   "execution_count": null,
   "metadata": {},
   "outputs": [],
   "source": [
    "// Write the code for Experiment 2 Step 4\n"
   ]
  },
  {
   "cell_type": "markdown",
   "metadata": {},
   "source": [
    "#### Question\n",
    "1. In Experiment 2 Step 3, can position i be exchanged for position j? Explain why!"
   ]
  },
  {
   "cell_type": "code",
   "execution_count": null,
   "metadata": {},
   "outputs": [],
   "source": [
    "// Write down answer number 1\n"
   ]
  },
  {
   "cell_type": "markdown",
   "metadata": {},
   "source": [
    "2. Add program code to dynamically determine the number of rows and columns of array elements (rows and columns are determined when the program runs via keyboard input)!"
   ]
  },
  {
   "cell_type": "code",
   "execution_count": null,
   "metadata": {},
   "outputs": [],
   "source": [
    "// Write down answer number 2\n"
   ]
  },
  {
   "cell_type": "markdown",
   "metadata": {},
   "source": [
    "### Experiment 3: Performing Arithmetic Operations on 2-Dimensional Array Elements\n",
    "In Experiment 3, the program code created was used to calculate the average value of the price of each staple for 1 semester. There are 3 basic ingredients whose prices are recorded at the end of each month. The program is made based on the following flowchart.\n",
    "![Image 8](images/flow1.png)\n",
    "1. Import and declare Scanner with name **sc**\n",
    "![Image 9](images/code8.png)"
   ]
  },
  {
   "cell_type": "code",
   "execution_count": null,
   "metadata": {},
   "outputs": [],
   "source": [
    "// Write down the code for the 3 Step Experiment 1\n"
   ]
  },
  {
   "cell_type": "markdown",
   "metadata": {},
   "source": [
    "2. Create an array of type **integer** with the name **price** with a row capacity of 3 elements (stating the number of staples) and a column of 6 elements (stating the number of months). Also declare the **total** and **average** variables of type **double**\n",
    "![Image 10](images/code9.png)"
   ]
  },
  {
   "cell_type": "code",
   "execution_count": null,
   "metadata": {},
   "outputs": [],
   "source": [
    "// Write down the code for Experiment 3 Step 2\n"
   ]
  },
  {
   "cell_type": "markdown",
   "metadata": {},
   "source": [
    "3. Using the *for* loop, create input to fill the array elements **price**. Then, the total price is calculated for each month (column) for each staple (row). After that, the average value is calculated for each staple (one row) and displayed\n",
    "![Image 11](images/code10.png)"
   ]
  },
  {
   "cell_type": "code",
   "execution_count": null,
   "metadata": {},
   "outputs": [],
   "source": [
    "// Write the programe code for experiment 3, Step 3\n"
   ]
  },
  {
   "cell_type": "markdown",
   "metadata": {},
   "source": [
    "#### Question\n",
    "1. Explain the function of **average = total / price[0].length**!"
   ]
  },
  {
   "cell_type": "code",
   "execution_count": null,
   "metadata": {},
   "outputs": [],
   "source": [
    "// Write down answer number 1\n"
   ]
  },
  {
   "cell_type": "markdown",
   "metadata": {},
   "source": [
    "2. Why are the initialization variables **total = 0** and **average = 0** in the first *for* loop? What do you think happens if the initialization of the two variables is placed outside the *for* loop (after the array declaration)?"
   ]
  },
  {
   "cell_type": "code",
   "execution_count": null,
   "metadata": {},
   "outputs": [],
   "source": [
    "// Write down answer number 2\n"
   ]
  },
  {
   "cell_type": "markdown",
   "metadata": {},
   "source": [
    "## Task"
   ]
  },
  {
   "cell_type": "markdown",
   "metadata": {},
   "source": [
    "1. Observe the following flowchart.\n",
    "![Image 12](images/flow2.png)\n",
    "Code the program according to the flowchart to find the highest temperature recorded from 5 cities in Japan for 7 consecutive days!"
   ]
  },
  {
   "cell_type": "code",
   "execution_count": null,
   "metadata": {},
   "outputs": [],
   "source": [
    "// Write down answer number 1\n"
   ]
  },
  {
   "cell_type": "markdown",
   "metadata": {},
   "source": [
    "2. There are data recording results for five students containing information on age, weight (kg), and height (cm). The data is stored in a two-dimensional array.\n",
    "![Image 13](images/tabel.png)\n",
    "*Note: value storage can be done through initialization using the assignment operator*\n",
    "  * Show *lowest weight* among the five students\n",
    "  * Show *average height* of the five students\n",
    "  * Show the name of the student with *oldest age* among the five students"
   ]
  },
  {
   "cell_type": "code",
   "execution_count": 2,
   "metadata": {},
   "outputs": [],
   "source": [
    "// Write down answer number 2\n"
   ]
  }
 ],
 "metadata": {
  "kernelspec": {
   "display_name": "Java",
   "language": "java",
   "name": "java"
  },
  "language_info": {
   "codemirror_mode": "java",
   "file_extension": ".jshell",
   "mimetype": "text/x-java-source",
   "name": "Java",
   "pygments_lexer": "java",
   "version": "18-ea+22-1416"
  }
 },
 "nbformat": 4,
 "nbformat_minor": 4
}
