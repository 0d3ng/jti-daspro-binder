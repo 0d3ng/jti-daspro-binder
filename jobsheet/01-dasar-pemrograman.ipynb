{
 "cells": [
  {
   "cell_type": "markdown",
   "metadata": {
    "collapsed": true
   },
   "source": [
    "## JOBSHEET 1\n",
    "\n",
    "## Bahasa Pemrograman (Instalasi Java Development Kit/JDK)\n",
    "\n",
    "### Tujuan\n",
    "+ Mahasiswa mengenal konsep program dan bahasa pemrograman\n",
    "+ Mahasiswa mampu melakukan instalasi tools pemrograman Java\n",
    "+ Mahasiswa memahami struktur dasar Java\n",
    "+ Mahasiswa mampu melakukan compiler dan debugging"
   ]
  },
  {
   "cell_type": "code",
   "execution_count": null,
   "metadata": {},
   "outputs": [],
   "source": []
  }
 ],
 "metadata": {
  "kernelspec": {
   "display_name": "Python 3",
   "language": "python",
   "name": "python3"
  },
  "language_info": {
   "codemirror_mode": {
    "name": "ipython",
    "version": 3
   },
   "file_extension": ".py",
   "mimetype": "text/x-python",
   "name": "python",
   "nbconvert_exporter": "python",
   "pygments_lexer": "ipython3",
   "version": "3.9.6"
  }
 },
 "nbformat": 4,
 "nbformat_minor": 1
}
