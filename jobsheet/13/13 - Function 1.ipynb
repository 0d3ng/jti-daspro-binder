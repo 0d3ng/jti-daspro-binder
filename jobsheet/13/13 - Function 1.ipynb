{
 "cells": [
  {
   "cell_type": "markdown",
   "metadata": {},
   "source": [
    "# JOBSHEET 13. Function 1"
   ]
  },
  {
   "cell_type": "markdown",
   "metadata": {},
   "source": [
    "## Purpose\n",
    "* Students are able to understand the use of static functions in Java with parameters and returning values.\n",
    "* Students are able to make programs using static functions and execute those functions.\n"
   ]
  },
  {
   "cell_type": "markdown",
   "metadata": {},
   "source": [
    "## Tools and materials\n",
    "* PC/Laptop\n",
    "* Browsers\n",
    "* Internet connection\n",
    "* Anaconda3 + Java kernel (optional)"
   ]
  },
  {
   "cell_type": "markdown",
   "metadata": {},
   "source": [
    "## Practicum"
   ]
  },
  {
   "cell_type": "markdown",
   "metadata": {},
   "source": [
    "### Experiment 1: Void function (does not use return value)\n",
    "\n",
    "1. Create a function **greetings** of type void which is used to print **“Hello! Good morning\"**.\n",
    "![Image 1](images/code1.png)"
   ]
  },
  {
   "cell_type": "markdown",
   "metadata": {},
   "source": [
    "2. Execute or call the function **greetings**.\n",
    "![Image 2](images/code2.png)"
   ]
  },
  {
   "cell_type": "code",
   "execution_count": null,
   "metadata": {},
   "outputs": [],
   "source": [
    "// Write down the code for Experiment 1 Step 1 & 2\n"
   ]
  },
  {
   "cell_type": "markdown",
   "metadata": {},
   "source": [
    "3. Create a **sayHello** function with a parameter of type String.\n",
    "![Image 3](images/code3.png)"
   ]
  },
  {
   "cell_type": "markdown",
   "metadata": {},
   "source": [
    "4. Create a **greeting** variable of type String then execute or call the **sayHello** function by filling in the parameters with the **sentence** variable that has been created.\n",
    "![Image 3](images/code4.png)"
   ]
  },
  {
   "cell_type": "code",
   "execution_count": 2,
   "metadata": {},
   "outputs": [],
   "source": [
    "// Write down the code for Experiment 1 Step 1, 2, 3 & 4\n"
   ]
  },
  {
   "cell_type": "markdown",
   "metadata": {},
   "source": [
    "#### Question\n",
    "1. Explain the differences in the functions of **greetings** and **sayHello** in practicum 1!"
   ]
  },
  {
   "cell_type": "markdown",
   "metadata": {},
   "source": [
    "2. Explain how to call a void function with parameters and without parameters!\n"
   ]
  },
  {
   "cell_type": "markdown",
   "metadata": {},
   "source": [
    "### Experiment 2: Function with return value (Not void)\n",
    "In Experiment 2, the program code created is used to calculate the area of a square by creating a function **area of a square** that uses parameters.\n",
    "1. Create a **aquareArea** function to calculate the area of a square that returns the area value (int) and the side input parameter (int).\n",
    "![Image 4](images/code5.png)"
   ]
  },
  {
   "cell_type": "markdown",
   "metadata": {},
   "source": [
    "2. Execute or call the squareArea function by creating a new variable, namely **area**, then fill in the variable by calling the squareArea function and filling in the side parameters. Next print the variable area to display the area of the rectangle\n",
    "![Image 5](images/code6.png)"
   ]
  },
  {
   "cell_type": "code",
   "execution_count": null,
   "metadata": {},
   "outputs": [],
   "source": [
    "// Write the code for Experiment 2 Step 1 & 2\n"
   ]
  },
  {
   "cell_type": "markdown",
   "metadata": {},
   "source": [
    "#### Question\n",
    "1. explain why when calling the **squareArea** function you have to create a new variable, namely area?"
   ]
  },
  {
   "cell_type": "markdown",
   "metadata": {},
   "source": [
    "2. Explain the use of **area return** in experiment 2 above!"
   ]
  },
  {
   "cell_type": "markdown",
   "metadata": {},
   "source": [
    "3. Modify the program in experiment 2, by making the length of **side** as input!"
   ]
  },
  {
   "cell_type": "code",
   "execution_count": null,
   "metadata": {},
   "outputs": [],
   "source": [
    "// Write down answer number 2\n"
   ]
  },
  {
   "cell_type": "markdown",
   "metadata": {},
   "source": [
    "### Experiment 3: Function can CALL Other Functions\n",
    "In Experiment 3, the program code created is used to implement that function can CALL other functions. Where in this experiment there is a function ** multiplication and substraction **.\n",
    "1. Create a **multiplication** function that returns the value H (int) and the input parameters C and D (int).\n",
    "![Image 9](images/code7.png)"
   ]
  },
  {
   "cell_type": "markdown",
   "metadata": {},
   "source": [
    "2. Create a **substraction** function that returns the value X (int) and the input parameters A and B (int) and calls the multiplication function.\n",
    "![Image 10](images/code8.png)"
   ]
  },
  {
   "cell_type": "markdown",
   "metadata": {},
   "source": [
    "3. Import the Scanner class as input in the next step.\n"
   ]
  },
  {
   "cell_type": "markdown",
   "metadata": {},
   "source": [
    "4. Execute or call the **substraction** function.\n",
    "![Image 11](images/code9.png)"
   ]
  },
  {
   "cell_type": "code",
   "execution_count": 4,
   "metadata": {},
   "outputs": [],
   "source": [
    "// Write the code for Experiment 3 Steps 1, 2, 3 & 4\n"
   ]
  },
  {
   "cell_type": "markdown",
   "metadata": {},
   "source": [
    "#### Question\n",
    "1. Modify the above experiment where the **multiplication** function can call the **substraction** function then execute or call the multiplication function"
   ]
  },
  {
   "cell_type": "code",
   "execution_count": null,
   "metadata": {},
   "outputs": [],
   "source": [
    "// Write down answer number 1\n"
   ]
  },
  {
   "cell_type": "markdown",
   "metadata": {},
   "source": [
    "2. Explain the flow of the program in experiment 3 starting from input to output!\n"
   ]
  },
  {
   "cell_type": "markdown",
   "metadata": {},
   "source": [
    "### Experiment 4: Changing Programs Not Using Functions and Using Functions\n",
    "In Experiment 4, the program code created is used to calculate the area of a rectangle and the volume of a block without using a function and using a function.\n",
    "1. Import and declare Scanner with the name **input**\n",
    "![Image 9](images/code10.png)"
   ]
  },
  {
   "cell_type": "markdown",
   "metadata": {},
   "source": [
    "2. Make input length, width, and height\n",
    "![Image 10](images/code11.png)"
   ]
  },
  {
   "cell_type": "markdown",
   "metadata": {},
   "source": [
    "3. Calculate the area of the rectangle and the volume of the block\n",
    "![Image 10](images/code12.png)"
   ]
  },
  {
   "cell_type": "code",
   "execution_count": 2,
   "metadata": {},
   "outputs": [],
   "source": [
    "// Write the code for Experiment 4 Steps 1, 2, & 3\n"
   ]
  },
  {
   "cell_type": "markdown",
   "metadata": {},
   "source": [
    "4. The program calculates the area of the square and the volume of the block above, if a function is made, there are 3 functions, namely calculateArea, calculateVolume and the main function, as below:\n",
    "\n",
    "Function calculateArea\n",
    "\n",
    "![Image 10](images/code13.png)\n",
    "\n",
    "CalculateVolume . function\n",
    "![Image 10](images/code14.png)\n"
   ]
  },
  {
   "cell_type": "markdown",
   "metadata": {},
   "source": [
    "5. Eksekusi/panggil fungsi **calculateArea** dan **calculateVolume**\n",
    "\n",
    "![Gambar 10](images/code15.png)"
   ]
  },
  {
   "cell_type": "code",
   "execution_count": null,
   "metadata": {},
   "outputs": [],
   "source": [
    "// Write the code for Experiment 4 Steps 1, 2, & 3\n"
   ]
  },
  {
   "cell_type": "markdown",
   "metadata": {},
   "source": [
    "#### Question\n",
    "1. Explain the use of the parameters contained in the functions calculateArea and calculeVolume!"
   ]
  },
  {
   "cell_type": "markdown",
   "metadata": {},
   "source": [
    "2. After doing experiment 4, in your opinion, which program is more efficient, using a function or without a function? Explain!"
   ]
  },
  {
   "cell_type": "markdown",
   "metadata": {},
   "source": [
    "### Experiment 5: Functions Using Arrays and Global Variables\n",
    "In Experiment 5, the program code created is used to calculate the total values in the array by creating 3 functions, namely fillArray, calcTol, and showArray.\n",
    "1. Make **global variable total and i** of type int\n",
    "![Image 9](images/code16.png)"
   ]
  },
  {
   "cell_type": "markdown",
   "metadata": {},
   "source": [
    "2. Create a function **fillArray** of type int with a number parameter of type int\n",
    "\n",
    "![Image 10](images/code17.png)"
   ]
  },
  {
   "cell_type": "markdown",
   "metadata": {},
   "source": [
    "3. Create a function **showArray** of type **void** with array data parameter **arr** of type int\n",
    "\n",
    "![Image 10](images/code18.png)"
   ]
  },
  {
   "cell_type": "markdown",
   "metadata": {},
   "source": [
    "4. Create a function **calcTot** of type int with array data parameter **arr** of type int\n",
    "\n",
    "![Image 10](images/code19.png)"
   ]
  },
  {
   "cell_type": "markdown",
   "metadata": {},
   "source": [
    "5. Import and declare Scanner with the name **input**\n",
    "\n",
    "![Image 10](images/code20.png)"
   ]
  },
  {
   "cell_type": "markdown",
   "metadata": {},
   "source": [
    "6. Execute or call the three functions, namely **fillArray, displayArray, and calcTot**, then run the program!\n",
    "\n",
    "![Image 10](images/code21.png)"
   ]
  },
  {
   "cell_type": "code",
   "execution_count": 3,
   "metadata": {},
   "outputs": [],
   "source": [
    "// Write the code for Experiment 4 Steps 1 to 6\n"
   ]
  },
  {
   "cell_type": "markdown",
   "metadata": {},
   "source": [
    "#### Question\n",
    "1. Explain why the return function array is made of type void, while fillArray and calcTot are of type int!"
   ]
  },
  {
   "cell_type": "markdown",
   "metadata": {},
   "source": [
    "2. In your opinion, can the fillArray and calcTot function be replaced with void type? Explain and prove it with the program!"
   ]
  },
  {
   "cell_type": "code",
   "execution_count": null,
   "metadata": {},
   "outputs": [],
   "source": [
    "// Write down answer number 2\n"
   ]
  },
  {
   "cell_type": "markdown",
   "metadata": {},
   "source": [
    "## Task"
   ]
  },
  {
   "cell_type": "markdown",
   "metadata": {},
   "source": [
    "1. Create a static method named Max3(int number1, int number2, int number3) which accepts 3 integer parameters and returns an integer which is the maximum value among the three numbers."
   ]
  },
  {
   "cell_type": "code",
   "execution_count": null,
   "metadata": {},
   "outputs": [],
   "source": [
    "// Write down answer number 1\n"
   ]
  },
  {
   "cell_type": "markdown",
   "metadata": {},
   "source": [
    "2. In a restaurant there are 3 menus that are sold, namely fried rice, soto, and satay. The price of fried rice is Rp. 20,000, soto Rp. 15,000, and satay Rp. 25,000. The restaurant is open from Monday to Friday. The following is a daily sales table for each menu at the restaurant from Monday to Friday\n",
    "![Image 13](images/table22.png)\n",
    "\n",
    "Create a Function as follows:\n",
    "  * Function to display favorite menu on Tuesday and Friday (favorite menu is assumed to be the most sold menu on that day)\n",
    "  * Function to calculate the restaurant's income from Monday to Friday.\n",
    "  * Function to calculate how many servings are sold for each menu, namely fried rice, soto, and satay from Monday to Friday."
   ]
  },
  {
   "cell_type": "code",
   "execution_count": null,
   "metadata": {},
   "outputs": [],
   "source": [
    "// Write down answer number 2\n"
   ]
  }
 ],
 "metadata": {
  "kernelspec": {
   "display_name": "Java",
   "language": "java",
   "name": "java"
  },
  "language_info": {
   "codemirror_mode": "java",
   "file_extension": ".jshell",
   "mimetype": "text/x-java-source",
   "name": "Java",
   "pygments_lexer": "java",
   "version": "18-ea+24-1608"
  }
 },
 "nbformat": 4,
 "nbformat_minor": 4
}
