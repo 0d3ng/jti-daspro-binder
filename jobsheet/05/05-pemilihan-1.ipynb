{
 "cells": [
  {
   "cell_type": "markdown",
   "metadata": {
    "collapsed": true
   },
   "source": [
    "## JOBSHEET 5\n",
    "\n",
    "## PEMILIHAN 1\n",
    "\n",
    "### Tujuan\n",
    "Mahasiswa mampu menyelesaikan permasalahan/studi kasus menggunakan sintaks pemilihan 1 dan mengimplemantasikannya dalam bahasa pemrogaman java.\n",
    "\n",
    "### Alat dan Bahan\n",
    "+ PC/laptop\n",
    "+ Browser(chrome, firefox, safari)\n",
    "+ Koneksi internet\n",
    "\n",
    "### Praktikum\n",
    "#### Percobaan 1\n",
    "#### Waktu percobaan : 150 menit\n",
    "1. Perhatikan flowchart dibawah ini!\n",
    "\n",
    "![](images/01.png)\n",
    "\n",
    "> Flowchart diatas digunakan untuk menentukan bilangan ganjil/genap, selanjutnya kita akan membuat programnya berdasarkan\n",
    "> flowchart di atas!\n",
    "\n",
    "2. Tambahkan library Scanner, deklarasi Scanner, dan buat variabel bil untuk menampung data yang diinput melalui keyboard"
   ]
  },
  {
   "cell_type": "code",
   "execution_count": 6,
   "metadata": {
    "pycharm": {
     "name": "#%%\n"
    }
   },
   "outputs": [
    {
     "name": "stdout",
     "output_type": "stream",
     "text": [
      "Masukkan sebuah bilangan: 90\n"
     ]
    }
   ],
   "source": [
    "import java.util.Scanner;\n",
    "Scanner input = new Scanner(System.in);\n",
    "int bil;                 \n",
    "System.out.print(\"Masukkan sebuah bilangan: \");\n",
    "bil = input.nextInt();"
   ]
  },
  {
   "cell_type": "markdown",
   "metadata": {},
   "source": [
    "3. Buatlah struktur kondisi untuk mengecek apakah bilangan tersebut merupakan bilangan genap atau ganjil"
   ]
  },
  {
   "cell_type": "code",
   "execution_count": 7,
   "metadata": {},
   "outputs": [
    {
     "name": "stdout",
     "output_type": "stream",
     "text": [
      "Bilangan Genap\n"
     ]
    }
   ],
   "source": [
    "if(bil%2 == 0){\n",
    "    System.out.println(\"Bilangan Genap\");\n",
    "}else{\n",
    "    System.out.println(\"Bilangan Ganjil\");\n",
    "}"
   ]
  },
  {
   "cell_type": "markdown",
   "metadata": {},
   "source": [
    "##### Pertanyaan\n",
    "1. Modifikasi program diatas dibagian struktur pemilihannya sehingga menjadi sebagai berikut:"
   ]
  },
  {
   "cell_type": "code",
   "execution_count": 8,
   "metadata": {},
   "outputs": [
    {
     "name": "stdout",
     "output_type": "stream",
     "text": [
      "Bilangan Genap\n"
     ]
    }
   ],
   "source": [
    "String output = (bil % 2 == 0) ? \"Bilangan Genap\":\"Bilangan Ganjil\";\n",
    "System.out.println(output);"
   ]
  },
  {
   "cell_type": "markdown",
   "metadata": {},
   "source": [
    "2. Jalankan dan amatilah hasilnya!\n",
    "3. Jelaskan mengapa output program yang dimodifikasi sama dengan output program sebelum dimodifikasi!\n",
    "\n",
    "#### Percobaan 2\n",
    "#### Waktu percobaan : 120 menit"
   ]
  },
  {
   "cell_type": "markdown",
   "metadata": {},
   "source": [
    "+ Buatlah sebuah variabel nilai untuk menyimpan inputan dari keyboard"
   ]
  },
  {
   "cell_type": "code",
   "execution_count": null,
   "metadata": {},
   "outputs": [],
   "source": [
    "int nilai;\n",
    "System.out.print(\"Masukkan sebuah bilangan: \");\n",
    "nilai = input.nextInt();    "
   ]
  },
  {
   "cell_type": "markdown",
   "metadata": {},
   "source": [
    "+ Tambahkan sebuah kondisi untuk mengecek input pada variabel nilai"
   ]
  },
  {
   "cell_type": "code",
   "execution_count": null,
   "metadata": {},
   "outputs": [],
   "source": [
    "if(nilai >= 100){\n",
    "    nilai+=10;\n",
    "}else{\n",
    "    nilai -= 10;\n",
    "}\n",
    "System.out.println(\"Hasil akhir nilai adalah \"+nilai);"
   ]
  },
  {
   "cell_type": "markdown",
   "metadata": {},
   "source": [
    "+ Jalankan program. Amati apa yang terjadi!"
   ]
  },
  {
   "cell_type": "markdown",
   "metadata": {},
   "source": [
    "##### Pertanyaan\n",
    "1. Jelaskan fungsi kode program berikut:\n",
    "```\n",
    "nilai+=10;\n",
    "nilai-=10;\n",
    "```\n",
    "2. Modifikasilah program diatas dimana inputannya yang awalnya hanya satu kemudian diganti 2 inputan (misal : nilai1 dan nilai2), lakukan perhitungan rata-rata kedua nilai tersebut jika nilainya lebih dari sama dengan 100 maka dikurangi 5, sedangkan jika nilai rata-rata tersebut kurang dari 100 maka akan langsung dicetak!"
   ]
  },
  {
   "cell_type": "markdown",
   "metadata": {},
   "source": [
    "#### Percobaan 3\n",
    "#### Waktu percobaan : 120 menit\n",
    "+ Tambahakan library `Scanner`\n",
    "+ Buatlah deklarasi `Scanner`\n",
    "+ Buat variabel umur bertipe `int`"
   ]
  },
  {
   "cell_type": "code",
   "execution_count": null,
   "metadata": {},
   "outputs": [],
   "source": [
    "int umur;\n",
    "System.out.print(\"Masukkan umur Anda: \");\n",
    "umur = input.nextInt(); "
   ]
  },
  {
   "cell_type": "markdown",
   "metadata": {},
   "source": [
    "+ Kode untuk melakukan pengecekan variabel `umur`"
   ]
  },
  {
   "cell_type": "code",
   "execution_count": null,
   "metadata": {},
   "outputs": [],
   "source": [
    "if(umur > 60)\n",
    "    System.out.println(\"Lansia\");\n",
    "else if(umur > 45)\n",
    "    System.out.println(\"Tua);\n",
    "else if(umur > 17)\n",
    "    System.out.println(\"Dewasa);\n",
    "else if(umur > 5)\n",
    "    System.out.println(\"Anak-anak);\n",
    "else\n",
    "    System.out.println(\"Balita);"
   ]
  },
  {
   "cell_type": "markdown",
   "metadata": {},
   "source": [
    "+ Jalankan program dan amati apa yang terjadi!"
   ]
  },
  {
   "cell_type": "markdown",
   "metadata": {},
   "source": [
    "##### Percobaan 4\n",
    "1. Deklarasikan Scanner\n",
    "1. Buatlah variabel-variabel berikut"
   ]
  },
  {
   "cell_type": "code",
   "execution_count": 2,
   "metadata": {},
   "outputs": [],
   "source": [
    "double angka1, angka2, hasil;\n",
    "char operator;"
   ]
  },
  {
   "cell_type": "markdown",
   "metadata": {},
   "source": [
    "3. Kode program untuk meminta inputan dari keyboard"
   ]
  },
  {
   "cell_type": "code",
   "execution_count": null,
   "metadata": {},
   "outputs": [],
   "source": [
    "System.out.print(\"Masukkan angka pertama: \");\n",
    "angka1 = sc.nextDouble(); \n",
    "System.out.print(\"Masukkan angka kedua: \");\n",
    "angka2 = sc.nextDouble();\n",
    "System.out.print(\"Masukkan operator (+ - * /): \");\n",
    "angka1 = sc.next().chartAt(0);"
   ]
  },
  {
   "cell_type": "markdown",
   "metadata": {},
   "source": [
    "4. Kode di bawah ini untuk melakukan pengecekan operator yang digunakan sebelum dilakukan operasi aritmatika"
   ]
  },
  {
   "cell_type": "code",
   "execution_count": 3,
   "metadata": {},
   "outputs": [
    {
     "name": "stdout",
     "output_type": "stream",
     "text": [
      "Operator yang Anda masukkan salah\n"
     ]
    }
   ],
   "source": [
    "switch(operator){\n",
    "    case '+':\n",
    "    hasil = angka1 + angka2;\n",
    "    System.out.println(angka1 + \" + \" + angka2 + \" = \" + hasil);\n",
    "    break;\n",
    "    case '-':\n",
    "    hasil = angka1 - angka2;\n",
    "    System.out.println(angka1 + \" - \" + angka2 + \" = \" + hasil);\n",
    "    break;\n",
    "    case '*':\n",
    "    hasil = angka1 * angka2;\n",
    "    System.out.println(angka1 + \" * \" + angka2 + \" = \" + hasil);\n",
    "    break;\n",
    "    case '/':\n",
    "    hasil = angka1 / angka2;\n",
    "    System.out.println(angka1 + \" / \" + angka2 + \" = \" + hasil);\n",
    "    break;\n",
    "    default:\n",
    "    System.out.println(\"Operator yang Anda masukkan salah\");\n",
    "}"
   ]
  },
  {
   "cell_type": "markdown",
   "metadata": {},
   "source": [
    "5. Jalankan program. Amati apa yang terjadi!"
   ]
  },
  {
   "cell_type": "markdown",
   "metadata": {},
   "source": [
    "##### Pertanyaan\n",
    "1. Jelaskan fungsi dari break dan default pada percobaan 4 diatas!\n",
    "2. Jelaskan fungsi perintah kode program dibawah ini pada percobaan 4!\n",
    "```\n",
    "operator = sc.next().chartAt(0);\n",
    "```"
   ]
  },
  {
   "cell_type": "markdown",
   "metadata": {},
   "source": [
    "### Tugas\n",
    "1. Buatlah program untuk menginputkan dua buah bilangan bulat, kemudian mencetak salah satu bilangan yang nilainya terbesar.\n",
    "2. Perhatikan flowchart berikut ini:\n",
    "\n",
    "![](images/02.png)\n",
    "\n",
    "> Buatlah program sesuai dengan flowchart diatas!\n",
    "\n",
    "3. Pada akhir semester seorang dosen menghitung nilai akhir dari mahasiswa yang terdiri dari nilai uas, uts, kuis, dan tugas. Nilai akhir didapatkan dari 40% nilai uas, 30% nilai uts, 10% nilai kuis, dan 20% nilai tugas. Jika nilai akhir dari mahasiswa dibawah 65 maka mahasiswa tersebut akan mendapatkan remidi. Buatlah program untuk membantu mengetahui mahasiswa yang mendapatkan remidi berdasarkan nilai akhir yang didapatkannya!\n",
    "\n",
    "4. Sebuah toko memberikan diskon kepada pelanggannya dengan ketentuan sebagai berikut:\n",
    "| Total Belanja     | Potongan |\n",
    "|-------------------|----------|\n",
    "| >Rp. 200.000,00   | 2%       |\n",
    "| >Rp. 500.000,00   | 5%       |\n",
    "| >Rp. 1.000.000,00 | 10%      |\n",
    "\n",
    "> Total belanja diperoleh dari pembelian tiga barang yaitu barang A, barang B, dan barang C. Ketika menginputkan harga barang juga menginputkan jumlah barang yang dibeli."
   ]
  }
 ],
 "metadata": {
  "kernelspec": {
   "display_name": "Java",
   "language": "java",
   "name": "java"
  },
  "language_info": {
   "codemirror_mode": "java",
   "file_extension": ".jshell",
   "mimetype": "text/x-java-source",
   "name": "Java",
   "pygments_lexer": "java",
   "version": "9.0.4+11"
  }
 },
 "nbformat": 4,
 "nbformat_minor": 1
}
