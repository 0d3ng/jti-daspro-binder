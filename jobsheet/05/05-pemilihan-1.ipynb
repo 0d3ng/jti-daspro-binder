{
 "cells": [
  {
   "cell_type": "markdown",
   "metadata": {
    "collapsed": true
   },
   "source": [
    "## JOBSHEET 5\n",
    "\n",
    "## PEMILIHAN 1\n",
    "\n",
    "### Tujuan\n",
    "Mahasiswa mampu menyelesaikan permasalahan/studi kasus menggunakan sintaks pemilihan 1 dan mengimplemantasikannya dalam bahasa pemrogaman java.\n",
    "\n",
    "### Alat dan Bahan\n",
    "+ PC/laptop\n",
    "+ Browser(chrome, firefox, safari)\n",
    "+ Koneksi internet\n",
    "\n",
    "### Praktikum\n",
    "#### Percobaan 1\n",
    "#### Waktu percobaan : 150 menit\n",
    "1. Perhatikan flowchart dibawah ini!\n",
    "\n",
    "![](images/01.png)\n",
    "\n",
    "> Flowchart diatas digunakan untuk menentukan bilangan ganjil/genap, selanjutnya kita akan membuat programnya berdasarkan\n",
    "> flowchart di atas!\n",
    "\n",
    "2. Tambahkan library Scanner, deklarasi Scanner, dan buat variabel bil untuk menampung data yang diinput melalui keyboard"
   ]
  },
  {
   "cell_type": "code",
   "execution_count": 6,
   "metadata": {
    "pycharm": {
     "name": "#%%\n"
    }
   },
   "outputs": [
    {
     "name": "stdout",
     "output_type": "stream",
     "text": [
      "Masukkan sebuah bilangan: 90\n"
     ]
    }
   ],
   "source": [
    "import java.util.Scanner;\n",
    "Scanner input = new Scanner(System.in);\n",
    "int bil;                 \n",
    "System.out.print(\"Masukkan sebuah bilangan: \");\n",
    "bil = input.nextInt();"
   ]
  },
  {
   "cell_type": "markdown",
   "metadata": {},
   "source": [
    "3. Buatlah struktur kondisi untuk mengecek apakah bilangan tersebut merupakan bilangan genap atau ganjil"
   ]
  },
  {
   "cell_type": "code",
   "execution_count": 7,
   "metadata": {},
   "outputs": [
    {
     "name": "stdout",
     "output_type": "stream",
     "text": [
      "Bilangan Genap\n"
     ]
    }
   ],
   "source": [
    "if(bil%2 == 0){\n",
    "    System.out.println(\"Bilangan Genap\");\n",
    "}else{\n",
    "    System.out.println(\"Bilangan Ganjil\");\n",
    "}"
   ]
  },
  {
   "cell_type": "markdown",
   "metadata": {},
   "source": [
    "##### Pertanyaan\n",
    "1. Modifikasi program diatas dibagian struktur pemilihannya sehingga menjadi sebagai berikut:"
   ]
  },
  {
   "cell_type": "code",
   "execution_count": 8,
   "metadata": {},
   "outputs": [
    {
     "name": "stdout",
     "output_type": "stream",
     "text": [
      "Bilangan Genap\n"
     ]
    }
   ],
   "source": [
    "String output = (bil % 2 == 0) ? \"Bilangan Genap\":\"Bilangan Ganjil\";\n",
    "System.out.println(output);"
   ]
  },
  {
   "cell_type": "markdown",
   "metadata": {},
   "source": [
    "2. Jalankan dan amatilah hasilnya!\n",
    "3. Jelaskan mengapa output program yang dimodifikasi sama dengan output program sebelum dimodifikasi!\n",
    "\n",
    "#### Percobaan 2\n",
    "#### Waktu percobaan : 120 menit"
   ]
  },
  {
   "cell_type": "markdown",
   "metadata": {},
   "source": [
    "+ Buatlah sebuah variabel nilai untuk menyimpan inputan dari keyboard"
   ]
  },
  {
   "cell_type": "code",
   "execution_count": null,
   "metadata": {},
   "outputs": [],
   "source": [
    "int nilai;\n",
    "System.out.print(\"Masukkan sebuah bilangan: \");\n",
    "nilai = input.nextInt();    "
   ]
  },
  {
   "cell_type": "markdown",
   "metadata": {},
   "source": [
    "+ Tambahkan sebuah kondisi untuk mengecek input pada variabel nilai"
   ]
  },
  {
   "cell_type": "code",
   "execution_count": null,
   "metadata": {},
   "outputs": [],
   "source": [
    "if(nilai >= 100){\n",
    "    nilai+=10;\n",
    "}else{\n",
    "    nilai -= 10;\n",
    "}\n",
    "System.out.println(\"Hasil akhir nilai adalah \"+nilai);"
   ]
  },
  {
   "cell_type": "markdown",
   "metadata": {},
   "source": [
    "+ Jalankan program. Amati apa yang terjadi!"
   ]
  },
  {
   "cell_type": "markdown",
   "metadata": {},
   "source": [
    "##### Pertanyaan\n",
    "1. Jelaskan fungsi kode program berikut:\n",
    "```\n",
    "nilai+=10;\n",
    "nilai-=10;\n",
    "```\n",
    "2. Modifikasilah program diatas dimana inputannya yang awalnya hanya satu kemudian diganti 2 inputan (misal : nilai1 dan nilai2), lakukan perhitungan rata-rata kedua nilai tersebut jika nilainya lebih dari sama dengan 100 maka dikurangi 5, sedangkan jika nilai rata-rata tersebut kurang dari 100 maka akan langsung dicetak!"
   ]
  }
 ],
 "metadata": {
  "kernelspec": {
   "display_name": "Java",
   "language": "java",
   "name": "java"
  },
  "language_info": {
   "codemirror_mode": "java",
   "file_extension": ".jshell",
   "mimetype": "text/x-java-source",
   "name": "Java",
   "pygments_lexer": "java",
   "version": "9.0.4+11"
  }
 },
 "nbformat": 4,
 "nbformat_minor": 1
}
