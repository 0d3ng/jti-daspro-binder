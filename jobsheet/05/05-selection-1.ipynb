{
 "cells": [
  {
   "cell_type": "markdown",
   "metadata": {
    "collapsed": true
   },
   "source": [
    "## JOBSHEETS 5\n",
    "\n",
    "## SELECTION 1\n",
    "\n",
    "### Purpose\n",
    "\n",
    "Students are able to solve problems/case studies using the syntax selection 1 and implement it in the Java programming language.\n",
    "\n",
    "### Tools and materials\n",
    "+ PC/laptop\n",
    "+ Browser(chrome, firefox, safari)\n",
    "+ Internet connection\n",
    "\n",
    "### Practicum\n",
    "\n",
    "#### Experiment 1: Using Of if\n",
    "\n",
    "#### Experiment time : 40 minutes\n",
    "\n",
    "1. Pay attention to the flowchart below!\n",
    "\n",
    "     <p align=\"left\">\n",
    "     <img width=\"351\" height=\"460\" src=\"images/img1.jpg\">\n",
    "     </p>\n",
    "    \n",
    "\n",
    "> The flowchart above is used to determine odd/even numbers, then we will make the program based on\n",
    "> flowchart above!\n",
    "\n",
    "2. Add Scanner library, Scanner declaration, and create a variable bil to hold data inputted via keyboard\n",
    "\n",
    "     ![](images/img2.jpg)"
   ]
  },
  {
   "cell_type": "code",
   "execution_count": 1,
   "metadata": {
    "pycharm": {
     "name": "#%%\n"
    }
   },
   "outputs": [],
   "source": [
    "// Type the program code above, below (below this sentence)\n"
   ]
  },
  {
   "cell_type": "markdown",
   "metadata": {},
   "source": [
    "3. Create a conditional structure to check whether the number is even or odd\n",
    "\n",
    "     ![](images/img3.jpg)"
   ]
  },
  {
   "cell_type": "code",
   "execution_count": null,
   "metadata": {},
   "outputs": [],
   "source": [
    "// Type the program code above, below (below this sentence)\n"
   ]
  },
  {
   "cell_type": "markdown",
   "metadata": {},
   "source": [
    "> Write an explanation of the codes above\n",
    "\n"
   ]
  },
  {
   "cell_type": "markdown",
   "metadata": {},
   "source": [
    "##### Question\n",
    "1. Modify the program above in the selection structure section so that it becomes as follows:\n",
    "\n",
    "     ![](images/img4.jpg)"
   ]
  },
  {
   "cell_type": "code",
   "execution_count": 2,
   "metadata": {},
   "outputs": [],
   "source": [
    "// Type the program code above, below (below this sentence)\n"
   ]
  },
  {
   "cell_type": "markdown",
   "metadata": {},
   "source": [
    "2. Run and observe the results!\n",
    "3. Explain why the output of the modified program is the same as the output of the program before it was modified!"
   ]
  },
  {
   "cell_type": "markdown",
   "metadata": {},
   "source": [
    "> Answer the questions below"
   ]
  },
  {
   "cell_type": "markdown",
   "metadata": {},
   "source": [
    "#### Experiment 2: Using if else\n",
    "\n",
    "#### Experiment time : 40 minutes\n",
    "\n",
    "+ Create a value variable to store input from the keyboard\n",
    "\n",
    "     ![](images/img5.jpg)"
   ]
  },
  {
   "cell_type": "code",
   "execution_count": null,
   "metadata": {},
   "outputs": [],
   "source": [
    "// Type the program code above, below (below this sentence)\n",
    " "
   ]
  },
  {
   "cell_type": "markdown",
   "metadata": {},
   "source": [
    "+ Add a condition to check the input on the value variable\n",
    "\n",
    "     ![](images/img6.jpg)"
   ]
  },
  {
   "cell_type": "code",
   "execution_count": null,
   "metadata": {},
   "outputs": [],
   "source": [
    "// Type the program code above, below (below this sentence)\n"
   ]
  },
  {
   "cell_type": "markdown",
   "metadata": {},
   "source": [
    "+ Run the program. Observe what happens!"
   ]
  },
  {
   "cell_type": "markdown",
   "metadata": {},
   "source": [
    "> Write an explanation of the code above\n",
    "\n"
   ]
  },
  {
   "cell_type": "markdown",
   "metadata": {},
   "source": [
    "##### Question\n",
    "1. Explain the function of the following program code:\n",
    "    \n",
    "     ```\n",
    "     value+=10;\n",
    "     value-=10;\n",
    "     ```\n",
    "\n",
    "2. Modify the above program where the input was initially only one then replaced by 2 inputs (example: value1 and value2), calculate the average of these two values if the value is more than equal to 100 then subtract 5, whereas if the average value is less of 100 it will be printed immediately!"
   ]
  },
  {
   "cell_type": "markdown",
   "metadata": {},
   "source": [
    "> Write your answer here\n"
   ]
  },
  {
   "cell_type": "markdown",
   "metadata": {},
   "source": [
    "#### Experiment 3: Using if else-if else\n",
    "\n",
    "#### Experiment time : 40 minutes\n",
    "\n",
    "+ Add library `Scanner`\n",
    "+ Make a `Scanner` . declaration\n",
    "+ Create age variable of type `int`\n",
    "\n",
    "     ![](images/img7.jpg)"
   ]
  },
  {
   "cell_type": "code",
   "execution_count": null,
   "metadata": {},
   "outputs": [],
   "source": [
    "> Write an explanation of the code above\n"
   ]
  },
  {
   "cell_type": "markdown",
   "metadata": {},
   "source": [
    "+ Code to check `age` . variable\n",
    "\n",
    "     ![](images/img8.jpg)"
   ]
  },
  {
   "cell_type": "code",
   "execution_count": 4,
   "metadata": {},
   "outputs": [],
   "source": [
    "// Type the program code above, below (below this sentence)\n"
   ]
  },
  {
   "cell_type": "markdown",
   "metadata": {},
   "source": [
    "+ Run the program. Observe what happens!"
   ]
  },
  {
   "cell_type": "markdown",
   "metadata": {},
   "source": [
    "##### Experiment 4: Using switch-case\n",
    "\n",
    "#### Experiment time : 40 minutes\n",
    "\n",
    "1. Declare Scanner\n",
    "1. Make the following variables\n",
    "\n",
    "     ![](images/img9.jpg)"
   ]
  },
  {
   "cell_type": "code",
   "execution_count": 5,
   "metadata": {},
   "outputs": [],
   "source": [
    "// Type the program code above, below (below this sentence)\n"
   ]
  },
  {
   "cell_type": "markdown",
   "metadata": {},
   "source": [
    "3. Program code to request input from the keyboard\n",
    "\n",
    "     ![](images/img10.jpg)"
   ]
  },
  {
   "cell_type": "code",
   "execution_count": null,
   "metadata": {},
   "outputs": [],
   "source": [
    "// Type the program code above, below (below this sentence)\n"
   ]
  },
  {
   "cell_type": "markdown",
   "metadata": {},
   "source": [
    "> Write an explanation of the codes above\n",
    "\n"
   ]
  },
  {
   "cell_type": "markdown",
   "metadata": {},
   "source": [
    "4. The code below is to check the operator used before performing arithmetic operations\n",
    "\n",
    "     ![](images/img11.jpg)"
   ]
  },
  {
   "cell_type": "code",
   "execution_count": null,
   "metadata": {},
   "outputs": [],
   "source": [
    "// Type the program code above, below (below this sentence)\n"
   ]
  },
  {
   "cell_type": "markdown",
   "metadata": {},
   "source": [
    "5. Run the program. Observe what happens!"
   ]
  },
  {
   "cell_type": "markdown",
   "metadata": {},
   "source": [
    "> Write an explanation of the code above\n",
    "\n"
   ]
  },
  {
   "cell_type": "markdown",
   "metadata": {},
   "source": [
    "##### Question\n",
    "1. Explain the function of break and default in experiment 4 above!\n",
    "2. Explain the function of the program code command below in experiment 4!\n",
    "\n",
    "     ```\n",
    "     operator = sc.next().chartAt(0);\n",
    "     ```"
   ]
  },
  {
   "cell_type": "markdown",
   "metadata": {},
   "source": [
    "> Write the answer above\n"
   ]
  },
  {
   "cell_type": "markdown",
   "metadata": {},
   "source": [
    "### Task\n",
    "\n",
    "#### Task time: 140 minutes\n",
    "\n",
    "1. Write a program to input two integers, then print one of the numbers with the largest value.\n"
   ]
  },
  {
   "cell_type": "code",
   "execution_count": null,
   "metadata": {},
   "outputs": [],
   "source": [
    "//type the program code and attach the result here"
   ]
  },
  {
   "cell_type": "markdown",
   "metadata": {},
   "source": [
    "2. Observe the following flowchart:\n",
    "\n",
    "![](images/img12.jpg)\n",
    "\n",
    "> Make a program according to the flowchart above!"
   ]
  },
  {
   "cell_type": "code",
   "execution_count": null,
   "metadata": {},
   "outputs": [],
   "source": [
    "//type the program code and attach the result here"
   ]
  },
  {
   "cell_type": "markdown",
   "metadata": {},
   "source": [
    "3. At the end of the semester, a lecturer calculates the final grades from students which consist of examination scores, uts, quizzes, and assignments. The final score is obtained from 40% of examination scores, 30% of UTs scores, 10% of quiz grades, and 20% of assignments. If the final grade of a student is below 65 then the student will get remedial. Make a program to help find out which students get remedial based on the final grade they get!"
   ]
  },
  {
   "cell_type": "code",
   "execution_count": null,
   "metadata": {},
   "outputs": [],
   "source": [
    "//type the program code and attach the result here"
   ]
  },
  {
   "cell_type": "markdown",
   "metadata": {},
   "source": [
    "4. A store provides discounts to its customers with the following conditions:\n",
    "\n",
    "| Total Shopping | Discount |\n",
    "|---------------------------|----------|\n",
    "| >Rp. 200,000.00 | 2% |\n",
    "| >Rp. 500,000.00 | 5% |\n",
    "| >Rp. 1,000,000.00 | 10% |\n",
    "\n",
    "> Total expenditure is obtained from the purchase of three items, namely item A, item B, and item C. When inputting the price of the item also inputs the number of items purchased.\n",
    "\n",
    "Example output\n",
    "```\n",
    "Enter the price of item A:100000\n",
    "Enter the quantity of item A :10\n",
    "Enter the price of item B:250000\n",
    "Enter the number of items B:5\n",
    "Enter the price of goods C:150000\n",
    "Enter the number of items C:1\n",
    "------------------------------------------------------------\n",
    "                total receipt\n",
    "------------------------------------------------------------\n",
    "Item Name | Price | Quantity | Total\n",
    "Item A 100000 10 1000000\n",
    "Item B 250000 5 1250000\n",
    "Item C 150000 1 150000\n",
    "Total:240000000\n",
    "Discount :240000.0\n",
    "Total Pay :2160000.0\n",
    "```"
   ]
  },
  {
   "cell_type": "code",
   "execution_count": null,
   "metadata": {},
   "outputs": [],
   "source": [
    "//type the program code and attach the result here"
   ]
  }
 ],
 "metadata": {
  "kernelspec": {
   "display_name": "Java",
   "language": "java",
   "name": "java"
  },
  "language_info": {
   "codemirror_mode": "java",
   "file_extension": ".jshell",
   "mimetype": "text/x-java-source",
   "name": "Java",
   "pygments_lexer": "java",
   "version": "18-ea+16-926"
  },
  "nteract": {
   "version": "nteract-on-jupyter@2.1.3"
  }
 },
 "nbformat": 4,
 "nbformat_minor": 1
}
