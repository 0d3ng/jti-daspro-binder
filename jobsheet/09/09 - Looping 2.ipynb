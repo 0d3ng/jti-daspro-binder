{
 "cells": [
  {
   "cell_type": "markdown",
   "metadata": {
    "collapsed": true
   },
   "source": [
    "<dl>\n",
    "  <dt>NIM :</dt>\n",
    "  <dd>...</dd>\n",
    "\n",
    "  <dt>Name :</dt>\n",
    "  <dd>...</dd>\n",
    "    \n",
    "  <dt>Class :</dt>\n",
    "  <dd>...</dd>\n",
    "</dl>\n",
    "\n",
    "\n",
    "___\n",
    "\n",
    "\n",
    "# JOBSHEET 09 - Loop 2\n",
    "\n",
    "## Purpose\n",
    "+ Students understand the concept of nested loops (_nested loop_)\n",
    "+ Students can explain the format for writing nested loops (_nested loop_)\n",
    "+ Students can implement nested loop flowcharts using the Java programming language\n",
    "\n",
    "## Tools and materials\n",
    "+ PC/laptop\n",
    "+ Browser(chrome, firefox, safari)\n",
    "+ Internet connection\n",
    "+ Anaconda3 + Java kernel (optional)\n",
    "\n",
    "## Practicum\n",
    "### Experiment 1: Square Star\n",
    "1. Pay attention to the Flowchart below\n",
    "![Image 0](images/img-00.png)\n",
    "> the flowchart above is used to draw a square with the symbol * (star)\n",
    "2. In the 1st experiment, an experiment on nested loops will be conducted. The case to be solved is to create a square * , with side lengths of N. Suppose N is entered **5**, then the result is\n",
    "![Image 1](images/img-01.png)\n",
    "3. Because the program requires input from the keyboard, it is necessary to import the Scanner class\n",
    "4. Type the program code below\n",
    "![Image 2](images/code1.png)"
   ]
  },
  {
   "cell_type": "code",
   "execution_count": 1,
   "metadata": {},
   "outputs": [],
   "source": [
    "// Write Experiment Code 1 Step 4 above\n"
   ]
  },
  {
   "cell_type": "markdown",
   "metadata": {},
   "source": [
    "5. Note the looping syntax used to print * N times sideways. In step 4 above, we make the _looping **for**_ code as _**inner loop**_.\n",
    "6. We loop again _inner loop_ as much as N times to produce _output_ like stage 2. Then we need to add an outer loop (_outer loop_).\n",
    "![Image 3](images/img-03.png)"
   ]
  },
  {
   "cell_type": "code",
   "execution_count": 2,
   "metadata": {},
   "outputs": [],
   "source": [
    "// Write the code for Experiment 1 Step 6 (combine it with the inner loop in step 4)\n"
   ]
  },
  {
   "cell_type": "markdown",
   "metadata": {},
   "source": [
    "#### Question\n",
    "1. Does combining the _inner loop_ and _outer loop_ as in step 5 above produce _output_ as shown in step 1?\n",
    "2. If not, please modify the program code so that it produces output that matches the image in step 2?\n",
    "\n",
    "#### Answer\n",
    "1. ...\n",
    "2. ..."
   ]
  },
  {
   "cell_type": "code",
   "execution_count": 3,
   "metadata": {},
   "outputs": [],
   "source": [
    "// Write Experiment 1 program code, which you think is correct"
   ]
  },
  {
   "cell_type": "markdown",
   "metadata": {},
   "source": [
    "***\n",
    "### Experiment 2: Triangle Star\n",
    "1. In the 2nd experiment, an equilateral triangle * experiment with a height of N will be carried out. Suppose N is entered **5**, then the results are as shown below\n",
    "![Image 4](images/img-04.png)\n",
    "2. Because the program requires input from the keyboard, it is necessary to import the Scanner class\n",
    "3. Type the program code below\n",
    "![Image 5](images/code2.png)"
   ]
  },
  {
   "cell_type": "code",
   "execution_count": 4,
   "metadata": {},
   "outputs": [],
   "source": [
    "// Write Experiment Code 2 Step 3 above\n"
   ]
  },
  {
   "cell_type": "markdown",
   "metadata": {},
   "source": [
    "Observe the program code that you have written above.\n",
    "\n",
    "#### Question\n",
    "1. Notice, does the resulting output with a value of N = 5 match the display as in stage 1 (Experiment 2)?\n",
    "2. If it doesn't fit, which parts should be corrected/added? Describe any parts that need to be improved/added.\n",
    "\n",
    "#### Answer\n",
    "1. ...\n",
    "2. ..."
   ]
  },
  {
   "cell_type": "code",
   "execution_count": 5,
   "metadata": {},
   "outputs": [],
   "source": [
    "// Write Experiment 2 program code, which you think is correct\n"
   ]
  },
  {
   "cell_type": "markdown",
   "metadata": {},
   "source": [
    "***\n",
    "### Experiment 3: Number Triangle\n",
    "1. In the 3rd experiment, an equilateral triangle with a height of N will be conducted. Suppose N is entered **5**, then the results are as follows\n",
    "![Image 7](images/img-07.png)\n",
    "2. Because the program requires input from the keyboard, it is necessary to import the Scanner class\n",
    "3. Type the program code below\n",
    "![Image 8](images/code3.png)"
   ]
  },
  {
   "cell_type": "code",
   "execution_count": 6,
   "metadata": {},
   "outputs": [],
   "source": [
    "// Write Experiment 3 Step 3 code above, here\n"
   ]
  },
  {
   "cell_type": "markdown",
   "metadata": {},
   "source": [
    "#### Question\n",
    "1. Does the above program code produce the expected _output_?\n",
    "2. If not, which program code should be modified? Explain\n",
    "\n",
    "#### Answer\n",
    "1. ...\n",
    "2. ..."
   ]
  },
  {
   "cell_type": "code",
   "execution_count": 7,
   "metadata": {},
   "outputs": [],
   "source": [
    "// Write Experiment 3 program code, which you think is correct\n"
   ]
  },
  {
   "cell_type": "markdown",
   "metadata": {},
   "source": [
    "***\n",
    "### Experiment 4: Guess the Number\n",
    "1. In Experiment 4, we will learn to code to guess numbers using nested loops.\n",
    "2. In this experiment we use the Scanner library to capture input from the keyboard and Random to generate random numbers\n",
    "3. Type and understand the program code below\n",
    "![Image 6](images/code4.png)"
   ]
  },
  {
   "cell_type": "code",
   "execution_count": 8,
   "metadata": {},
   "outputs": [],
   "source": [
    "// Write the code for Experiment 4 Step 3 above, here\n"
   ]
  },
  {
   "cell_type": "markdown",
   "metadata": {},
   "source": [
    "#### Question\n",
    "1. Explain the flow of the program above!\n",
    "2. What should be done to discontinue (not repeat) the game?\n",
    "3. Modify the above program, so that it can display information about:\n",
    "     1. input the guess value entered by the user whether it is smaller or greater than the random value!\n",
    "     2. Stop the nested loop if the user fails to guess the number up to 10 times, and give the message \"Sorry you failed to guess the number 10 times\"\n",
    "\n",
    "#### Answer\n",
    "1. ...\n",
    "2. ..."
   ]
  },
  {
   "cell_type": "code",
   "execution_count": 9,
   "metadata": {},
   "outputs": [],
   "source": [
    "/* Answers for Experiment 4 Question 3.A here */\n"
   ]
  },
  {
   "cell_type": "code",
   "execution_count": 10,
   "metadata": {},
   "outputs": [],
   "source": [
    "/* Answers to Experiment 4 Question 3.B here */\n"
   ]
  },
  {
   "cell_type": "markdown",
   "metadata": {},
   "source": [
    "***\n",
    "## Task\n",
    "### Question 1\n",
    "Make a program that **according** with the flowchart below\n",
    "![Problem 1](images/Soal-01.png)\n",
    "\n",
    "If the program code matches the flowchart, then the value of N = 5 will produce an output like the following picture:\n",
    "![Problem 1 A](images/Soal-01.1.png)"
   ]
  },
  {
   "cell_type": "code",
   "execution_count": 1,
   "metadata": {},
   "outputs": [],
   "source": [
    "/* Answer to Question 1 here */\n"
   ]
  },
  {
   "cell_type": "markdown",
   "metadata": {},
   "source": [
    "***\n",
    "### Question 2\n",
    "Write a program to print a rectangular display of numbers as below based on input from _keyboard_ N (minimum N value 3). Example N = 3, and N = 5\n",
    "![Problem 2](images/Soal-02.png)"
   ]
  },
  {
   "cell_type": "code",
   "execution_count": 12,
   "metadata": {},
   "outputs": [],
   "source": [
    "/* Answer to Question 2 here */\n",
    "\n"
   ]
  },
  {
   "cell_type": "markdown",
   "metadata": {},
   "source": [
    "***\n",
    "### Question 3\n",
    "Write a program to print a pyramid display * as shown below, the height of the pyramid based on the input from _keyboard_ N (minimum N value 3). Example N = 3, and N = 5\n",
    "![Problem 3](images/Soal-03.png)"
   ]
  },
  {
   "cell_type": "code",
   "execution_count": 13,
   "metadata": {},
   "outputs": [],
   "source": [
    "/* Answer to Question 3 here */\n"
   ]
  },
  {
   "cell_type": "code",
   "execution_count": null,
   "metadata": {},
   "outputs": [],
   "source": []
  }
 ],
 "metadata": {
  "kernelspec": {
   "display_name": "Java",
   "language": "java",
   "name": "java"
  },
  "language_info": {
   "codemirror_mode": "java",
   "file_extension": ".jshell",
   "mimetype": "text/x-java-source",
   "name": "Java",
   "pygments_lexer": "java",
   "version": "18-ea+18-1093"
  }
 },
 "nbformat": 4,
 "nbformat_minor": 1
}
