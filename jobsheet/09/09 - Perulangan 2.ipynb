{
 "cells": [
  {
   "cell_type": "markdown",
   "metadata": {
    "collapsed": true
   },
   "source": [
    "# JOBSHEET 09 - Perulangan 2\n",
    "\n",
    "## Tujuan\n",
    "+ Mahasiswa memahami konsep perulangan bersarang (_nested loop_)\n",
    "+ Mahasiswa dapat menjelaskan format penulisan perulangan bersarang (_nested loop_)\n",
    "+ Mahasiswa dapat mengimplementasikan _flowchart_ perulangan bersarang menggunakan bahasa pemrograman Java\n",
    "\n",
    "## Alat dan Bahan\n",
    "+ PC/laptop\n",
    "+ Browser(chrome, firefox, safari)\n",
    "+ Koneksi internet\n",
    "+ Anaconda3 + Java kernel (opsional)\n",
    "\n",
    "## Praktikum\n",
    "### Percobaan 1: Bintang Persegi\n",
    "1. Pada percobaan ke-1 akan dilakukan percobaan tentang _nested loop_. Kasus yang akan diselesaikan adalah untuk membuat tampilan bujursangkar * , dengan panjang sisi sebanyak N. Misalkan N dimasukan **5**, maka hasilnya adalah\n",
    "![Gambar 1](images/img-01.png)\n",
    "2. Karena program membutuhkan input dari keyboard, maka perlu import class Scanner\n",
    "3. Ketikan kode program di bawah ini\n",
    "![Gambar 2](images/img-02.png)"
   ]
  },
  {
   "cell_type": "code",
   "execution_count": 5,
   "metadata": {},
   "outputs": [],
   "source": [
    "// Tulis Kode program langkah 3 di atas\n"
   ]
  },
  {
   "cell_type": "markdown",
   "metadata": {},
   "source": [
    "4.\tPerhatikan sintaks perulangan yang digunakan untuk mencetak * sebanyak N kali ke arah samping. Di tahap 3 di atas kode _looping **for**_ kita jadikan sebagai _**inner loop**_. \n",
    "5.\tKita looping lagi _inner loop_ sebanyak N kali untuk menghasilkan _output_ seperti tahap 1. Maka perlu ditambahkan perulangan luar (_outer loop_).\n",
    "![Gambar 3](images/img-03.png)"
   ]
  },
  {
   "cell_type": "code",
   "execution_count": 6,
   "metadata": {},
   "outputs": [],
   "source": [
    "// Tulis Kode program langkah 5 (gabungkan dengan inner loop pada langkah 3)\n"
   ]
  },
  {
   "cell_type": "markdown",
   "metadata": {},
   "source": [
    "#### Pertanyaan \n",
    "1. Apakah dengan menggabungkan _inner loop_ dan _outer loop_ seperti langkah 5 di atas sudah menghasilkan _output_ seperti gambar pada langkah 1?\n",
    "2. Jika belum, kode program apa yang perlu ditambahkan pada langkah 5?\n",
    "\n",
    "#### Jawaban\n",
    "1. ...\n",
    "2. ..."
   ]
  },
  {
   "cell_type": "code",
   "execution_count": 9,
   "metadata": {},
   "outputs": [],
   "source": [
    "// Ketikkan jawaban kode program Anda yang sesuai dengan output pada langkah 1 di atas, disini\n",
    "\n"
   ]
  },
  {
   "cell_type": "markdown",
   "metadata": {},
   "source": [
    "### Percobaan 2: Bintang Segitiga\n",
    "1.\tPada percobaan ke-2 akan dilakukan percobaan segitiga * , dengan sama siku dengan tinggi sebesar N. Misalkan N dimasukan **5**, maka hasilnya adalah\n",
    "![Gambar 4](images/img-04.png)\n",
    "2. Karena program membutuhkan input dari keyboard, maka perlu import class Scanner\n",
    "3. Ketikan kode program di bawah ini\n",
    "![Gambar 5](images/img-05.png)"
   ]
  },
  {
   "cell_type": "code",
   "execution_count": 8,
   "metadata": {},
   "outputs": [],
   "source": [
    "// Tulis Kode program langkah 3 di atas\n"
   ]
  },
  {
   "cell_type": "markdown",
   "metadata": {},
   "source": [
    "Amati kode program yang telah kalian tulis di atas.\n",
    "\n",
    "#### Pertanyaan\n",
    "1. Perhatikan, apakah output yang dihasilkan dengan nilai N = 5 sesuai dengan  tampilan seperti pada tahap 1 (Percobaan 2)?\n",
    "2. Jika tidak sesuai, bagian mana saja yang harus diperbaiki/ditambahkan? Jelaskan setiap bagian yang perlu diperbaiki/ditambahkan. \n",
    "\n",
    "#### Jawaban\n",
    "1. ...\n",
    "2. ..."
   ]
  },
  {
   "cell_type": "code",
   "execution_count": null,
   "metadata": {},
   "outputs": [],
   "source": []
  },
  {
   "cell_type": "markdown",
   "metadata": {},
   "source": [
    "### Percobaan 3: "
   ]
  }
 ],
 "metadata": {
  "kernelspec": {
   "display_name": "Java",
   "language": "java",
   "name": "java"
  },
  "language_info": {
   "codemirror_mode": "java",
   "file_extension": ".jshell",
   "mimetype": "text/x-java-source",
   "name": "Java",
   "pygments_lexer": "java",
   "version": "10.0.1+10"
  }
 },
 "nbformat": 4,
 "nbformat_minor": 1
}
