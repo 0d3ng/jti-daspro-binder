{
 "cells": [
  {
   "cell_type": "markdown",
   "metadata": {},
   "source": [
    "## JOBSHEET 7\n",
    "\n",
    "## LOOPING 1\n",
    "\n",
    "### Purpose\n",
    "\n",
    "Students are able to solve problems/case studies using iteration 1 syntax and implement it in the Java programming language.\n",
    "\n",
    "### Tools and materials\n",
    "+ PC/laptop\n",
    "+ Browser(chrome, firefox, safari)\n",
    "+ Internet connection\n",
    "\n",
    "### Practicum\n",
    "\n",
    "#### Experiment 1: Using for, while and do-while\n",
    "\n",
    "#### Experiment time : 40 minutes\n",
    "\n",
    "1. Pay attention to the for loop flowchart below!\n",
    "\n",
    "     <p align=\"left\">\n",
    "     <img width=\"197\" height=\"259\" src=\"images/img1.png\">\n",
    "     </p>\n",
    "    \n",
    "\n",
    "> The flowchart above is used to calculate the factorial value, then we will make the program based on\n",
    "> flowchart above!\n",
    "\n",
    "2. Add Scanner library, Scanner declaration, and create numeric variable to hold data inputted via keyboard"
   ]
  },
  {
   "cell_type": "code",
   "execution_count": 32,
   "metadata": {
    "pycharm": {
     "name": "#%%\n"
    }
   },
   "outputs": [],
   "source": [
    "// Type the program code, below (below this sentence)\n"
   ]
  },
  {
   "cell_type": "code",
   "execution_count": null,
   "metadata": {},
   "outputs": [],
   "source": [
    "3. Make a declaration and initialization of factorial variables according to the flowchart above "
   ]
  },
  {
   "cell_type": "code",
   "execution_count": 15,
   "metadata": {},
   "outputs": [],
   "source": [
    "// Type the program code, below (below this sentence)\n"
   ]
  },
  {
   "cell_type": "markdown",
   "metadata": {},
   "source": [
    "4. Add a loop structure to calculate the factorial result of an inputted value using for\n",
    "    \n",
    "     <p align=\"left\">\n",
    "     <img width=\"696\" height=\"124\" src=\"images/img2.png\" align=\"left\">\n",
    "     </p>"
   ]
  },
  {
   "cell_type": "code",
   "execution_count": 26,
   "metadata": {},
   "outputs": [],
   "source": [
    "// Type the program code, below (below this sentence)\n"
   ]
  },
  {
   "cell_type": "markdown",
   "metadata": {},
   "source": [
    "5. Change the value of the factorial variable as before. Then use the while loop structure to calculate the factorial result of an input value\n",
    "    \n",
    "     <p align=\"left\">\n",
    "     <img width=\"696\" height=\"124\" src=\"images/img3.png\" align=\"left\">\n",
    "     </p>"
   ]
  },
  {
   "cell_type": "code",
   "execution_count": 35,
   "metadata": {
    "scrolled": true
   },
   "outputs": [],
   "source": [
    "// Type the program code, below (below this sentence)\n"
   ]
  },
  {
   "cell_type": "markdown",
   "metadata": {},
   "source": [
    "6. Return the factorial variable value again as before. Use a do-while loop structure to calculate the factorial of an input value\n",
    "    \n",
    "     <p align=\"left\">\n",
    "     <img width=\"696\" height=\"124\" src=\"images/img4.png\" align=\"left\">\n",
    "     </p>"
   ]
  },
  {
   "cell_type": "code",
   "execution_count": null,
   "metadata": {},
   "outputs": [],
   "source": [
    "// Type the program code, below (below this sentence)\n"
   ]
  },
  {
   "cell_type": "markdown",
   "metadata": {},
   "source": [
    "##### Question\n",
    "1. In the above program, what is the use of the following lines?\n",
    "<p align=\"left\">\n",
    "     <img src=\"images/img5.png\" align=\"left\">\n",
    "     </p>"
   ]
  },
  {
   "cell_type": "code",
   "execution_count": 40,
   "metadata": {},
   "outputs": [],
   "source": [
    "// Type your answer here\n"
   ]
  },
  {
   "cell_type": "markdown",
   "metadata": {},
   "source": [
    "2. Modify the program above in the selection structure section, so that the results are as follows:\n",
    "<p align=\"left\">\n",
    "     <img src=\"images/img6.png\" align=\"left\">\n",
    "     </p>"
   ]
  },
  {
   "cell_type": "code",
   "execution_count": null,
   "metadata": {},
   "outputs": [],
   "source": [
    "// Type the program code, below (below this sentence)\n"
   ]
  },
  {
   "cell_type": "markdown",
   "metadata": {},
   "source": [
    "#### Experiment 2: Exit loop using break\n",
    "\n",
    "#### Experiment time : 40 minutes"
   ]
  },
  {
   "cell_type": "markdown",
   "metadata": {},
   "source": [
    "1. Make a loop using for using the break keyword\n",
    "<p align=\"left\">\n",
    "     <img width=\"696\" height=\"124\" src=\"images/img7.png\" align=\"left\">\n",
    "     </p>"
   ]
  },
  {
   "cell_type": "code",
   "execution_count": 5,
   "metadata": {},
   "outputs": [],
   "source": [
    "// Type the program code, below (below this sentence)\n"
   ]
  },
  {
   "cell_type": "markdown",
   "metadata": {},
   "source": [
    "2. Make the same loop with the while loop structure\n",
    "<p align=\"left\">\n",
    "     <img width=\"696\" height=\"124\" src=\"images/img8.png\" align=\"left\">\n",
    "     </p>"
   ]
  },
  {
   "cell_type": "code",
   "execution_count": 53,
   "metadata": {},
   "outputs": [],
   "source": [
    "// Type the program code, below (below this sentence)\n"
   ]
  },
  {
   "cell_type": "markdown",
   "metadata": {},
   "source": [
    "3. Write the above loop in a do-while structure\n",
    "     <p align=\"left\">\n",
    "     <img width=\"696\" height=\"124\" src=\"images/img9.png\" align=\"left\">\n",
    "     </p>"
   ]
  },
  {
   "cell_type": "code",
   "execution_count": 53,
   "metadata": {},
   "outputs": [],
   "source": [
    "// Type the program code, below (below this sentence)\n"
   ]
  },
  {
   "cell_type": "markdown",
   "metadata": {},
   "source": [
    "##### Question\n",
    "1. Explain the function of the program code that has been made in the experiment above!"
   ]
  },
  {
   "cell_type": "code",
   "execution_count": 53,
   "metadata": {},
   "outputs": [],
   "source": [
    "// Type your answer here\n"
   ]
  },
  {
   "cell_type": "markdown",
   "metadata": {},
   "source": [
    "2. Explain the function of the following code!\n",
    "     <p align=\"left\">\n",
    "     <img src=\"images/img10.png\" align=\"left\">\n",
    "     </p>"
   ]
  },
  {
   "cell_type": "code",
   "execution_count": 53,
   "metadata": {},
   "outputs": [],
   "source": [
    "// Type your answer here\n"
   ]
  },
  {
   "cell_type": "markdown",
   "metadata": {},
   "source": [
    "#### Experiment 3: Exit looping step using continue\n",
    "\n",
    "#### Experiment time : 40 minutes\n",
    "\n",
    "1. Create a looping program using the for loop structure as below:\n",
    "<p align=\"left\">\n",
    "     <img src=\"images/img11.png\" align=\"left\">\n",
    "     </p>\n"
   ]
  },
  {
   "cell_type": "code",
   "execution_count": 61,
   "metadata": {},
   "outputs": [],
   "source": [
    "// Type the program code, below (below this sentence)\n"
   ]
  },
  {
   "cell_type": "code",
   "execution_count": null,
   "metadata": {},
   "outputs": [],
   "source": [
    "5. Run the program. Observe what happens!"
   ]
  },
  {
   "cell_type": "markdown",
   "metadata": {},
   "source": [
    "##### Question\n",
    "1. Explain the difference between experiment 2 and experiment 3"
   ]
  },
  {
   "cell_type": "code",
   "execution_count": 61,
   "metadata": {},
   "outputs": [],
   "source": [
    "// Type your answer here\n"
   ]
  },
  {
   "cell_type": "markdown",
   "metadata": {},
   "source": [
    "2. Explain what is the function of the following program code command?\n",
    "<p align=\"left\">\n",
    "     <img width=\"352\" height=\"79\" src=\"images/img12.png\" align=\"left\">\n",
    "     </p>"
   ]
  },
  {
   "cell_type": "code",
   "execution_count": 61,
   "metadata": {},
   "outputs": [],
   "source": [
    "// Type your answer here\n"
   ]
  },
  {
   "cell_type": "markdown",
   "metadata": {},
   "source": [
    "### Task\n",
    "\n",
    "#### Task time: 140 minutes\n",
    "\n",
    "1. Write a program that asks the user to input an integer N (N > 0). The program then returns the sum of the first N positive even numbers (an even number 0).\n",
    "Example:\n",
    "     • If the user enters N = 10, the program will count the number of positive numbers in the range 1-10 and then display the sum of positive numbers between 1-10, namely:\n",
    "         0 + 2 + 4 + 6 + 10 = 30.\n",
    "         After that the program will display the average of the positive numbers that have been added up earlier.\n",
    "     • Sample program output and flowchart\n",
    "<br/><img width=\"303\" height=\"529\" src=\"images/img13.png\" align=\"left\"><br/>\n",
    "  \n",
    "\n",
    "<br/><img width=\"303\" height=\"529\" src=\"images/img14.png\" align=\"left\">"
   ]
  },
  {
   "cell_type": "code",
   "execution_count": 23,
   "metadata": {},
   "outputs": [],
   "source": [
    "// Type the program code, below (below this sentence)\n"
   ]
  },
  {
   "cell_type": "markdown",
   "metadata": {},
   "source": [
    "2. Write a program to display the number 1 to the user input number sequentially and skip multiples of 5. As shown below\n",
    "<p align=\"left\">\n",
    "<img width=\"184\" height=\"328\" src=\"images/img15.png\" align=\"left\">\n",
    "</p>"
   ]
  },
  {
   "cell_type": "code",
   "execution_count": null,
   "metadata": {},
   "outputs": [],
   "source": [
    "// Type the program code, below (below this sentence)\n"
   ]
  },
  {
   "cell_type": "markdown",
   "metadata": {},
   "source": [
    "3. Write a program that displays the Fibonacci number series as follows. Where the number on the right is the sum of the two previous numbers\n",
    "  <p align=\"left\">\n",
    "     <img width=\"451\" height=\"226\" src=\"images/fibo.png\" align=\"left\">\n",
    "     </p>"
   ]
  },
  {
   "cell_type": "code",
   "execution_count": null,
   "metadata": {},
   "outputs": [],
   "source": [
    "// Type the program code, below (below this sentence)\n"
   ]
  }
 ],
 "metadata": {
  "kernelspec": {
   "display_name": "Java",
   "language": "java",
   "name": "java"
  },
  "language_info": {
   "codemirror_mode": "java",
   "file_extension": ".jshell",
   "mimetype": "text/x-java-source",
   "name": "Java",
   "pygments_lexer": "java",
   "version": "18-ea+18-1093"
  },
  "nteract": {
   "version": "nteract-on-jupyter@2.1.3"
  }
 },
 "nbformat": 4,
 "nbformat_minor": 1
}
