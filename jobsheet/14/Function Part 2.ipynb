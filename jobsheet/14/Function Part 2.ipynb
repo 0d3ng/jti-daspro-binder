{
 "cells": [
  {
   "cell_type": "markdown",
   "metadata": {},
   "source": [
    "# JOBSHEET 14. Function 2"
   ]
  },
  {
   "cell_type": "markdown",
   "metadata": {},
   "source": [
    "## Purpose\n",
    "* Students understand the concept of recursive functions\n",
    "* Students are able to implement recursive functions in program code"
   ]
  },
  {
   "cell_type": "markdown",
   "metadata": {},
   "source": [
    "## Tools and materials\n",
    "* PC/Laptop\n",
    "* Browsers\n",
    "* Internet connection\n",
    "* Anaconda3 + Java kernel (optional)"
   ]
  },
  {
   "cell_type": "markdown",
   "metadata": {},
   "source": [
    "## Practicum"
   ]
  },
  {
   "cell_type": "markdown",
   "metadata": {},
   "source": [
    "### Experiment 1\n",
    "In this experiment, a program will be made to calculate the factorial value of a number using a recursive function. In addition, a function will also be made to calculate the factorial value using an iterative algorithm as a comparison\n",
    "\n",
    "1. Create a static function with the name **recursiveFactorial()**, with the return data type of the function int and having 1 parameter with the data type int in the form of a number whose factorial value will be calculated\n",
    "\n",
    "     ![Image 1](images/code1.png)"
   ]
  },
  {
   "cell_type": "code",
   "execution_count": 2,
   "metadata": {},
   "outputs": [],
   "source": [
    "// Write down the code for Experiment 1 Step 1 \n"
   ]
  },
  {
   "cell_type": "markdown",
   "metadata": {},
   "source": [
    "2. Create another static function with the name **iterativeFactorial()**, with the return data type of the function int and having 1 parameter with the int data type in the form of a number whose factorial value will be calculated.\n",
    "\n",
    "     ![Image 2](images/code2.png)"
   ]
  },
  {
   "cell_type": "code",
   "execution_count": null,
   "metadata": {},
   "outputs": [],
   "source": [
    "// Write the code for Experiment 1 Step 2\n"
   ]
  },
  {
   "cell_type": "markdown",
   "metadata": {},
   "source": [
    "3. Make calls to the two functions that have been made previously, and display the results obtained.\n",
    "\n",
    "     ![Image 3](images/code3.png)"
   ]
  },
  {
   "cell_type": "code",
   "execution_count": null,
   "metadata": {},
   "outputs": [],
   "source": [
    "// Write down the code for Experiment 1 Step 1, 2, 3\n"
   ]
  },
  {
   "cell_type": "markdown",
   "metadata": {},
   "source": [
    "4. When traced to the function call recursiveFactorial(5), the process that occurs can be illustrated as follows:\n",
    "\n",
    "     ![Image 4](images/img4.png)"
   ]
  },
  {
   "cell_type": "markdown",
   "metadata": {},
   "source": [
    "#### Question\n",
    "1. What is a recursive function?\n",
    "2. What is an example of a recursive function use case?\n",
    "3. In Experiment1, is the result given by the recursiveFactorial() function and the iterativeFactorial() function the same? Explain the difference between the flow of the program in the use of recursive functions and iterative functions!"
   ]
  },
  {
   "cell_type": "markdown",
   "metadata": {},
   "source": [
    "### Experiment 2\n",
    "In this experiment, we will make a program to calculate the power of a number using a recursive function."
   ]
  },
  {
   "cell_type": "markdown",
   "metadata": {},
   "source": [
    "1. Create a static function with the name **calculatePower()**, with the return data type of the function int and having 2 parameters with the data type int in the form of a number to be calculated and the power of the number\n",
    "\n",
    "     ![Image 5](images/code5.png)"
   ]
  },
  {
   "cell_type": "markdown",
   "metadata": {},
   "source": [
    "2. Declare Scanner with name sc\n",
    "3. Create two variables of type int with the name number and power\n",
    "4. Add the following code to accept input from the keyboard\n",
    "\n",
    "     ![Image 6](images/code6.png)\n",
    "\n",
    "5. Call the calculatePower function that was created earlier by sending two parameter values.\n",
    "\n",
    "     ![Image 7](images/code7.png)"
   ]
  },
  {
   "cell_type": "code",
   "execution_count": 1,
   "metadata": {},
   "outputs": [],
   "source": [
    "// Write the code for Experiment 2 Step 1 - 5\n"
   ]
  },
  {
   "cell_type": "markdown",
   "metadata": {},
   "source": [
    "#### Question\n",
    "1. In Experiment 2, there is a recursive call to the function calculatePower(number, power) on the main function, then the function is called calculatePower() repeatedly. Explain how long the process of calling the function will run!"
   ]
  },
  {
   "cell_type": "markdown",
   "metadata": {},
   "source": [
    "### Experiment 3\n",
    "In this experiment, a program will be made to calculate the amount of customer money deposited in the bank after earning interest for several years using a recursive function.\n",
    "\n",
    "1. Create a static function with the name **calculateBankInterest()**, with the data type as the return function double and having 2 parameters with the data type int in the form of customer balance and duration of saving. In this case, the interest determined by the bank is 11% per year. Because the calculation of interest is interest * balance, so to calculate the amount of money after adding interest is balance + interest * balance. In this case, the interest rate is 0.11 * balance, and the balance is considered 1 * balance, so 1 * balance + 0.11 * balance can be condensed to 1.11 * balance for calculating the balance after adding interest (in a year).\n",
    "\n",
    "     ![Image 8](images/code8.png)"
   ]
  },
  {
   "cell_type": "markdown",
   "metadata": {},
   "source": [
    "2. Declare Scanner with name sc\n",
    "3. Create a variable of type double with the name startingBalance and a variable of type int named year\n",
    "4. Add the following code to accept input from the keyboard\n",
    "\n",
    "  ![Image 9](images/code9.png)"
   ]
  },
  {
   "cell_type": "markdown",
   "metadata": {},
   "source": [
    "5. Call the calculated Interest function that was created earlier by passing two parameter values.\n",
    "\n",
    "     ![Image 10](images/code10.png)"
   ]
  },
  {
   "cell_type": "code",
   "execution_count": null,
   "metadata": {},
   "outputs": [],
   "source": [
    "// Write the code for Experiment 3 Step 1 - 5\n"
   ]
  },
  {
   "cell_type": "markdown",
   "metadata": {},
   "source": [
    "#### Question\n",
    "1. In Experiment3, state which block of program code is a “base case” and a “recursion call”!"
   ]
  },
  {
   "cell_type": "markdown",
   "metadata": {},
   "source": [
    "## Task"
   ]
  },
  {
   "cell_type": "markdown",
   "metadata": {},
   "source": [
    "1. Write a program to display numbers n to 0 using recursive and iterative functions. (**Recursive Descending Series**)."
   ]
  },
  {
   "cell_type": "code",
   "execution_count": null,
   "metadata": {},
   "outputs": [],
   "source": [
    "// Write down the answer to task number 1\n"
   ]
  },
  {
   "cell_type": "markdown",
   "metadata": {},
   "source": [
    "2. Write a program in which there is a recursive function to calculate factorial numbers. For example f = 8, it will produce 1+2+3+4+5+6+7+8 = 36 (**Recursive Addition**)."
   ]
  },
  {
   "cell_type": "code",
   "execution_count": null,
   "metadata": {},
   "outputs": [],
   "source": [
    "// Write down the answer to task number 2\n"
   ]
  },
  {
   "cell_type": "markdown",
   "metadata": {},
   "source": [
    "3. Write a program in which there is a recursive function to check whether a number n is a prime number or not. n is not a prime number if it is divisible by a number less than n. (**CheckPrimeRecursive**)."
   ]
  },
  {
   "cell_type": "code",
   "execution_count": null,
   "metadata": {},
   "outputs": [],
   "source": [
    "// Write down the answer to task number 3\n"
   ]
  },
  {
   "cell_type": "markdown",
   "metadata": {},
   "source": [
    "4. A pair of newly born guinea pigs (male and female) are placed in a breeding. After two months the couple of guinea pigs gave birth to a couple of twin guinea pigs (male and female). Each couple of guinea pigs that are born will also give birth to a couple of guinea pigs every 2 months. How many couple of guinea pigs are there at the end of the 12th month? Write the program using recursive functions! (**Fibonacci**).\n",
    "The following is an illustration in tabular form.\n",
    "\n",
    "  ![Image 11](images/table11.png)"
   ]
  },
  {
   "cell_type": "code",
   "execution_count": null,
   "metadata": {},
   "outputs": [],
   "source": [
    "// Write down the answer to task number 4\n"
   ]
  }
 ],
 "metadata": {
  "kernelspec": {
   "display_name": "Java",
   "language": "java",
   "name": "java"
  },
  "language_info": {
   "codemirror_mode": "java",
   "file_extension": ".jshell",
   "mimetype": "text/x-java-source",
   "name": "Java",
   "pygments_lexer": "java",
   "version": "18-ea+24-1608"
  }
 },
 "nbformat": 4,
 "nbformat_minor": 4
}
