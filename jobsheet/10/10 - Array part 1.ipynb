{
 "cells": [
  {
   "cell_type": "markdown",
   "metadata": {},
   "source": [
    "# JOBSHEET 10 - Array 1\n",
    "\n",
    "## Purpose\n",
    "+ Students are able to understand the creation of 1-dimensional Arrays and accessing their elements in Java.\n",
    "+ Students are able to make programs using the concept of a one-dimensional array.\n",
    "\n",
    "\n",
    "## Tools and materials\n",
    "+ PC/laptop\n",
    "+ Browser(chrome, firefox, safari)\n",
    "+ Internet connection\n",
    "+ Anaconda3 + Java kernel (optional)\n",
    "\n",
    "## Practicum\n",
    "### Experiment 1: Filling Array Elements\n",
    "1. In the 1st experiment, an experiment will be carried out to fill the array elements. Create an array of type integer with the name number with a capacity of 4 elements.\n",
    "![Image 0](images/P1L2.png)"
   ]
  },
  {
   "cell_type": "code",
   "execution_count": null,
   "metadata": {},
   "outputs": [],
   "source": [
    "// Write Experiment Code 1 Step 2 above\n"
   ]
  },
  {
   "cell_type": "markdown",
   "metadata": {},
   "source": [
    "2. Fill each element of the array of numbers with the numbers 5, 12, 7, 20.\n",
    "![Image 0](images/P1L3.png)"
   ]
  },
  {
   "cell_type": "code",
   "execution_count": null,
   "metadata": {},
   "outputs": [],
   "source": [
    "// Write Experiment Code 1 Step 3 above\n"
   ]
  },
  {
   "cell_type": "markdown",
   "metadata": {},
   "source": [
    "3. Show to the screen all the contents of the elements:\n",
    "![Image 4](images/P1L4.png)"
   ]
  },
  {
   "cell_type": "code",
   "execution_count": null,
   "metadata": {},
   "outputs": [],
   "source": [
    "// Write Experiment Code 1 Step 4\n"
   ]
  },
  {
   "cell_type": "markdown",
   "metadata": {},
   "source": [
    "#### Question\n",
    "1. From experiment 1 what is the largest and smallest array index?"
   ]
  },
  {
   "cell_type": "code",
   "execution_count": null,
   "metadata": {},
   "outputs": [],
   "source": [
    "// Write Answer number 1 here\n"
   ]
  },
  {
   "cell_type": "markdown",
   "metadata": {},
   "source": [
    "2. If the contents of each element of the array bil are changed to the numbers 5.0, 12867, 7.5, 2000000. What happens? What's the reason?"
   ]
  },
  {
   "cell_type": "code",
   "execution_count": null,
   "metadata": {},
   "outputs": [],
   "source": [
    "// Write Answer number 2 here\n"
   ]
  },
  {
   "cell_type": "markdown",
   "metadata": {},
   "source": [
    "3. Change the statement in step No. 3 to be as follows\n",
    "![Question image 3](images/P1T3.png)\n",
    "What is the output of the program? What's the reason?"
   ]
  },
  {
   "cell_type": "code",
   "execution_count": null,
   "metadata": {},
   "outputs": [],
   "source": [
    "// Write Answer number 3 here\n"
   ]
  },
  {
   "cell_type": "markdown",
   "metadata": {},
   "source": [
    "### Experiment 2: Requesting User Input to Fill Array Elements\n",
    "1. In the 2nd experiment, an experiment will be conducted that asks for user input to fill in the array elements as shown in the following flowchart\n",
    "![Flowchart Images](images/flow1.png)"
   ]
  },
  {
   "cell_type": "code",
   "execution_count": null,
   "metadata": {},
   "outputs": [],
   "source": [
    "// Write Experiment Code 2 Step 1 above\n"
   ]
  },
  {
   "cell_type": "markdown",
   "metadata": {},
   "source": [
    "2. Import and declare Scanner for input purposes.\n",
    "![import scanner image](images/P2L2.png)"
   ]
  },
  {
   "cell_type": "code",
   "execution_count": null,
   "metadata": {},
   "outputs": [],
   "source": [
    "// Write Experiment Code 2 Step 1 above\n"
   ]
  },
  {
   "cell_type": "markdown",
   "metadata": {},
   "source": [
    "3. Create an array of type integer with the name finalExamScore, with a capacity of 6 elements.\n",
    "![Array declaration images](images/code1.png)"
   ]
  },
  {
   "cell_type": "code",
   "execution_count": null,
   "metadata": {},
   "outputs": [],
   "source": [
    "// Write Experiment Code 2 Step 3 above\n"
   ]
  },
  {
   "cell_type": "markdown",
   "metadata": {},
   "source": [
    "4. Using the loop, create inputs to fill in the elements of the finalExamScore value array.\n",
    "![Input loop image](images/code2.png)"
   ]
  },
  {
   "cell_type": "code",
   "execution_count": null,
   "metadata": {
    "scrolled": true
   },
   "outputs": [],
   "source": [
    "// Write Trial Code 2 Step 4 above\n"
   ]
  },
  {
   "cell_type": "markdown",
   "metadata": {},
   "source": [
    "5. Using a loop, return all the elements of the \"finalExamScore\" array.\n",
    "![Image loop print](images/code3.png)"
   ]
  },
  {
   "cell_type": "code",
   "execution_count": null,
   "metadata": {
    "scrolled": true
   },
   "outputs": [],
   "source": [
    "// Write Experiment Code 2 Step 5 above\n"
   ]
  },
  {
   "cell_type": "markdown",
   "metadata": {},
   "source": [
    "#### Question\n",
    "1. Change the statement in step No. 4 to be as follows:\n",
    "![Question image1](images/code4.png)\n",
    "Run the program, did it change? What's the reason?\n"
   ]
  },
  {
   "cell_type": "code",
   "execution_count": null,
   "metadata": {},
   "outputs": [],
   "source": [
    "// Write Answer number 1 here\n"
   ]
  },
  {
   "cell_type": "markdown",
   "metadata": {},
   "source": [
    "2. What is the use of `finalExamScore.length`?"
   ]
  },
  {
   "cell_type": "code",
   "execution_count": null,
   "metadata": {},
   "outputs": [],
   "source": [
    "// Write Answer number 2 here\n"
   ]
  },
  {
   "cell_type": "markdown",
   "metadata": {},
   "source": [
    "3. Change the statement in step No 5 to be as follows so that the program only displays the status of students who have passed:\n",
    "![Question image1](images/code5.png)\n",
    "Run the program and Explain the program flow!"
   ]
  },
  {
   "cell_type": "code",
   "execution_count": null,
   "metadata": {},
   "outputs": [],
   "source": [
    "// Write Answer number 3 here\n"
   ]
  },
  {
   "cell_type": "markdown",
   "metadata": {},
   "source": [
    "### Experiment 3: Performing Arithmetic Operations on Array Elements\n",
    "In this practicum, an experiment will be carried out to add arrays. The program will accept input as many as 10 student scores. Then the program will display the average value of 10 students. Like the following flowchart\n",
    "![Flowchart images](images/flow2.png)\n",
    "\n",
    "1.Import and declare Scanner for input purposes.\n",
    "![Scanner declaration image](images/P3L1.png)"
   ]
  },
  {
   "cell_type": "code",
   "execution_count": null,
   "metadata": {},
   "outputs": [],
   "source": [
    "// Write Experiment code 3 Step 1 above, here\n"
   ]
  },
  {
   "cell_type": "markdown",
   "metadata": {},
   "source": [
    "2. Create an array of \"studentScore\" of integer type with a capacity of 10. Then declare the total and average variables as shown below\n",
    "![Variable declaration image](images/code6.png)\n"
   ]
  },
  {
   "cell_type": "code",
   "execution_count": null,
   "metadata": {},
   "outputs": [],
   "source": [
    "// Write the code for Experiment 3 Step 2 above, here\n"
   ]
  },
  {
   "cell_type": "markdown",
   "metadata": {},
   "source": [
    "3. Using loops, create inputs to populate an array of \"studentScore\"\n",
    "![Input loop image](images/code7.png)\n"
   ]
  },
  {
   "cell_type": "code",
   "execution_count": null,
   "metadata": {},
   "outputs": [],
   "source": [
    "// Write the Experiment 3 Step 3 program code above, here\n"
   ]
  },
  {
   "cell_type": "markdown",
   "metadata": {},
   "source": [
    "4. Using loops to calculate the total number of score.\n",
    "![Image loop count](images/code8.png)\n"
   ]
  },
  {
   "cell_type": "code",
   "execution_count": null,
   "metadata": {},
   "outputs": [],
   "source": [
    "// Write Experiment 3 Step 4 code above, here\n"
   ]
  },
  {
   "cell_type": "markdown",
   "metadata": {},
   "source": [
    "5. Then calculate the average value by dividing the total value by the number of elements from the studentScore array\\\n",
    "![Image count average](images/code9.png)\n"
   ]
  },
  {
   "cell_type": "code",
   "execution_count": null,
   "metadata": {},
   "outputs": [],
   "source": [
    "// Write the Experiment 3 Step 3 program code above, here\n"
   ]
  },
  {
   "cell_type": "markdown",
   "metadata": {},
   "source": [
    "#### Question\n",
    "1. In Experiment 3 step 5. Why is the average calculation outside the loop?"
   ]
  },
  {
   "cell_type": "code",
   "execution_count": null,
   "metadata": {},
   "outputs": [],
   "source": [
    "// Write answer number 1 here\n"
   ]
  },
  {
   "cell_type": "markdown",
   "metadata": {},
   "source": [
    "2. Modify the program in experiment 3, so it can produce output like the following picture!\n",
    "pass requirement value >70\n",
    "![Question image 2](images/code10.png)"
   ]
  },
  {
   "cell_type": "code",
   "execution_count": null,
   "metadata": {},
   "outputs": [],
   "source": [
    "// Write answer number 2 here\n"
   ]
  },
  {
   "cell_type": "markdown",
   "metadata": {},
   "source": [
    "### Experiment 4: Experiment 4: Search using Array\n",
    "In this practicum, an experiment will be conducted to find the location/index of a number in an array. According to the flowchart below:\n",
    "![Image flowchart searching](images/flow3.png)"
   ]
  },
  {
   "cell_type": "markdown",
   "metadata": {},
   "source": [
    "1. Create an array arr[] of type integer with a capacity of 6 and fill it with values 6, 4, 1, 9, 7, 3, 2 and 8. Then declare an integer variable `key` for search keywords and variable `result` for results search index. Declaration and initialization like the following picture\n",
    "![Variable declaration image](images/code11.png)\n"
   ]
  },
  {
   "cell_type": "code",
   "execution_count": null,
   "metadata": {},
   "outputs": [],
   "source": [
    "// Write the Experiment 4 Step 1 code above, here\n"
   ]
  },
  {
   "cell_type": "markdown",
   "metadata": {},
   "source": [
    "2. Using loop, perform a search to find the array value that matches the key. If any match, save the index as search result\n",
    "![Image search loop](images/code12.png)\n"
   ]
  },
  {
   "cell_type": "code",
   "execution_count": null,
   "metadata": {},
   "outputs": [],
   "source": [
    "// Write Experiment Code 4 Step 2 above, here\n"
   ]
  },
  {
   "cell_type": "markdown",
   "metadata": {},
   "source": [
    "3. Display the search results with the following code.\n",
    "![Image loop count](images/code13.png)\n"
   ]
  },
  {
   "cell_type": "code",
   "execution_count": null,
   "metadata": {},
   "outputs": [],
   "source": [
    "// Write the code for Experiment 4 Step 3 above, here\n"
   ]
  },
  {
   "cell_type": "markdown",
   "metadata": {},
   "source": [
    "#### Question\n",
    "1. In Experiment 4 2nd step. What is the use of the `break` statement?"
   ]
  },
  {
   "cell_type": "code",
   "execution_count": null,
   "metadata": {},
   "outputs": [],
   "source": [
    "// Write answer number 1 here\n"
   ]
  },
  {
   "cell_type": "markdown",
   "metadata": {},
   "source": [
    "2. Modify the program in experiment 4 so that the key you are looking for is number 5. Then run the program, observe the results! Explain the cause of the result!"
   ]
  },
  {
   "cell_type": "code",
   "execution_count": null,
   "metadata": {},
   "outputs": [],
   "source": [
    "// Write answer number 2 here\n",
    "\n"
   ]
  },
  {
   "cell_type": "markdown",
   "metadata": {},
   "source": [
    "### Experiment 5: Sorting numbers using Array\n",
    "In this practicum, an experiment will be carried out to sort numbers in an array. According to the flowchart below:\n",
    "![Image flowchart sorting](images/FCpercobaan5.png)\n",
    "1.Create an array of integer type arr[] with a capacity of 8 and fill it with the values 16, 4, 10, 90, 27, 3, 12 and 28. Then declare the integer variable `temp` for the medium for swapping values in the variable. Declaration and initialization like the following picture\n",
    "![Declaration and initialization image](images/P5L1.png)"
   ]
  },
  {
   "cell_type": "code",
   "execution_count": null,
   "metadata": {},
   "outputs": [],
   "source": [
    "// Write Experiment Code 5 Step 1 here\n"
   ]
  },
  {
   "cell_type": "code",
   "execution_count": null,
   "metadata": {},
   "outputs": [],
   "source": [
    "// Write Experiment Code 5 Step 2 above, here\n"
   ]
  },
  {
   "cell_type": "markdown",
   "metadata": {},
   "source": [
    "2. Using loop, do the sorting of numbers by swapping the position of the index with the next index. Loop is done to swap positions repeatedly.\n",
    "![Image sorting](images/P5L2.png)"
   ]
  },
  {
   "cell_type": "markdown",
   "metadata": {},
   "source": [
    "3. Display the sorting result using loop\n",
    "![print image](images/code14.png)"
   ]
  },
  {
   "cell_type": "code",
   "execution_count": null,
   "metadata": {},
   "outputs": [],
   "source": [
    "// Write Trial code 5 Step 3 above, here\n"
   ]
  },
  {
   "cell_type": "markdown",
   "metadata": {},
   "source": [
    "## Task\n",
    "### Question 1\n",
    "Make a program that **according** with the flowchart below\n",
    "![Problem 1](images/soal1.png)\n",
    "\n",
    "The flowchart above illustrates the flow of a program that reads 10 user inputs in the form of integers and stores them. Then the odd and even numbers are stored back into another separate variable"
   ]
  },
  {
   "cell_type": "code",
   "execution_count": null,
   "metadata": {},
   "outputs": [],
   "source": [
    "/* Answer to Question 1 here */\n"
   ]
  },
  {
   "cell_type": "markdown",
   "metadata": {},
   "source": [
    "### Question 2\n",
    "Make a program that contains an array with the number of elements 5, make input to fill the array elements, then display the contents of the array in reverse order. As illustrated in the image below.\n",
    "![Problem 2](images/T2.png)"
   ]
  },
  {
   "cell_type": "code",
   "execution_count": null,
   "metadata": {},
   "outputs": [],
   "source": [
    "/* Answer to Question 2 here */\n",
    "\n"
   ]
  },
  {
   "cell_type": "markdown",
   "metadata": {},
   "source": [
    "### Question 3\n",
    "Write a program that accepts the number of array elements as input, inputs the contents of the array, then displays the largest number of the array elements. Example of program results:\n",
    "![Problem 3](images/code15.png)"
   ]
  },
  {
   "cell_type": "code",
   "execution_count": 2,
   "metadata": {},
   "outputs": [],
   "source": [
    "/* Answer to Question 3 here */\n"
   ]
  },
  {
   "cell_type": "code",
   "execution_count": null,
   "metadata": {},
   "outputs": [],
   "source": []
  }
 ],
 "metadata": {
  "kernelspec": {
   "display_name": "Java",
   "language": "java",
   "name": "java"
  },
  "language_info": {
   "codemirror_mode": "java",
   "file_extension": ".jshell",
   "mimetype": "text/x-java-source",
   "name": "Java",
   "pygments_lexer": "java",
   "version": "18-ea+20-1248"
  }
 },
 "nbformat": 4,
 "nbformat_minor": 1
}
