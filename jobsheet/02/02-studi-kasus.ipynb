{
 "cells": [
  {
   "cell_type": "markdown",
   "metadata": {
    "collapsed": true
   },
   "source": [
    "#JOBSHEET 2\n",
    "#Studi Kasus\n",
    "##1. Tujuan\n",
    "+ Mahasiswa dapat memodelkan permasalahan studi kasus Sequence.\n",
    "+ Mahasiswa dapat memodelkan permasalahan studi kasus Pemilihan\n",
    "+ Mahasiswa dapat memodelkan permasalahan studi kasus Perulangan\n",
    "\n",
    "##2. Praktikum\n",
    "###2.1 Percobaan 1: Menyelesaikan Studi Kasus Tentang Sequence\n",
    "Waktu percobaan : 50 menit\n",
    "+1. Setiap pagi gabrielle melakukan rutinitas secara berurutan sesuai gambar 1 berikut."
   ]
  },
  {
   "cell_type": "code",
   "execution_count": 1,
   "metadata": {},
   "outputs": [
    {
     "name": "stdout",
     "output_type": "stream",
     "text": [
      "Test dari saya Zawa\n"
     ]
    }
   ],
   "source": [
    "System.out.println(\"Test dari saya Zawa\");"
   ]
  },
  {
   "cell_type": "code",
   "execution_count": null,
   "metadata": {},
   "outputs": [],
   "source": []
  }
 ],
 "metadata": {
  "kernelspec": {
   "display_name": "Java",
   "language": "java",
   "name": "java"
  },
  "language_info": {
   "codemirror_mode": "java",
   "file_extension": ".jshell",
   "mimetype": "text/x-java-source",
   "name": "Java",
   "pygments_lexer": "java",
   "version": "10.0.1+10"
  }
 },
 "nbformat": 4,
 "nbformat_minor": 1
}
