{
 "cells": [
  {
   "cell_type": "markdown",
   "metadata": {
    "collapsed": true
   },
   "source": [
    "# JOBSHEET 2\n",
    "# Studi Kasus\n",
    "## 1. Tujuan\n",
    "+ Mahasiswa dapat memodelkan permasalahan studi kasus Sequence.\n",
    "+ Mahasiswa dapat memodelkan permasalahan studi kasus Pemilihan\n",
    "+ Mahasiswa dapat memodelkan permasalahan studi kasus Perulangan\n",
    "\n",
    "## 2. Praktikum\n",
    "### 2.1 Percobaan 1: Menyelesaikan Studi Kasus Tentang Sequence\n",
    "#### Waktu percobaan : 50 menit\n",
    "1. Setiap pagi gabrielle melakukan rutinitas secara berurutan sesuai gambar 1 berikut.\n",
    "\n",
    "    ![](images/01.png)\n",
    "\n",
    "    > Gambar 1. Studi Kasus Aktivitas Pagi Hari Gabrielle\n",
    "\n",
    "    Akan tetapi, terdapat 2 rutinitas yang tidak tepat urutanya. Bagaimanakan urutan yang benar?\n",
    "\n",
    "    Jawaban\n",
    "\n",
    "    Urutan yang benar adalah 1-2-4-3-5-6/7-8. Penjelasan urutan yang benar sebagai berikut :\n",
    "\n",
    "    + Gabrielle bangun tidur\n",
    "    + Kemudian berolahraga\n",
    "    + Setelah selesai berolahraga dilanjutkan dengan mandi\n",
    "    + Setelah selesai mandi, gabrielle menyisir rambut\n",
    "    + Kemudian, dilanjutkan dengan sarapan wortel di pagi hari\n",
    "    + Jika kondisi hujan, gabrielle akan memakai payung dari daun dan jalan kaki untuk pergi ke sekolah. Jika cerah, bersepeda adalah cara yang dipilih untuk pergi ke sekolah\n",
    "    + Tahap yang terakhir, sesampai di depan sekolah gabrielle bergegas masuk ke gedung sekolah\n",
    "\n",
    "2. Selesaikan permasalahan tesebut dengan langkah-langkah logis sesuai dengan ulasan teori yang sudah dijelaskan sebelumnya. “Bu Asil adalah salah satu nasabah bank YYY yang menabung sebesar 10 juta rupiah. Bank tersebut memberikan bunga sebesar 1,5% setiap tahun. Bu Asil menabung selama 5 tahun. Berapakah bunga dan jumlah tabungan yang dapat diambil sekarang?”\n",
    "\n",
    "    Jawaban\n",
    "\n",
    "    Input : Jumlah tabungan, bunga setiap bulan, lama menabung\n",
    "\n",
    "    Output : bunga, jumlah tabungan sekarang \n",
    "\n",
    "    Data Lain :-\n",
    "\n",
    "    Proses :\n",
    "\n",
    "    + Masukkan jumlah tabungan, lama menabung, dan prosentase bunga\n",
    "    + Hitung bunga = lama menabung x prosentase bunga x jumlah tabungan\n",
    "    + Hitung jumlah tabungan = bunga + jumlah tabungan\n",
    "    + Output bunga dan jumlah tabungan\n",
    "    \n",
    "### Pertanyaan\n",
    "\n",
    "1. Hitunglah secara matematis hasil dari percobaan 1 soal ke-2! Berapakah hasilnya?\n",
    "2. Jika terdapat informasi tambahan mengenai biaya administrasi sebesar 12 ribu per bulan untuk soal ke-2 percobaan 1. Tuliskan kembali langkah-langkah pembuatan algoritma yang benar! Berapakah jumlah tabungan yang dapat diambil?\n",
    "3. Setelah data tambahan pada pertanyaan soal no.2 berapakah tabungan yang bisa diambil ibu Asil setelah 7 tahun?"
   ]
  },
  {
   "cell_type": "markdown",
   "metadata": {},
   "source": [
    "### 2.2 Percobaan 1: Menyelesaikan Studi Kasus Tentang Pemilihan\n",
    "#### Waktu percobaan : 50 menit\n",
    "Pada ilustrasi gambar 2 berikut, beaver ingin berenang menyebrang seluruh sungai yang ada. Tetapi beaver hanya diijinkan satu kali saja melewati setiap sungai yang ada. Bagaimana lintasan yang harus dilalui beaver? Gunakan algoritma untuk menyelesaikan permasalahan yang dialami beaver!\n",
    "\n",
    "![](images/image-010.png)\n",
    "\n",
    "> Gambar 2. Studi Kasus Jalur Sungai Yang Akan Dilalui Beaver\n",
    "\n",
    "Jawaban\n",
    "\n",
    "Input : Sungai, Informasi keterhubungan sungai (Contohnya A berdekatan dengan B dan D)\n",
    "\n",
    "Output: Lintasan seluruh sungai\n",
    "\n",
    "Data Lain: -\n",
    "\n",
    "Proses :\n",
    "\n",
    "+ Beaver berada ditengah-tengah beberapa pertemuan sungai. Dia dapat berenang mulai dari sungai B/D/E/F/G\n",
    "+ Jika dimulai dari B maka lintasan yang dapat dilalui dengan memilih sungai A atau C.\n",
    "+ Jika melewati sungai A, maka :\n",
    "    + Sungai A dilanjutkan ke sungai D\n",
    "    + Dari D memiliki pilihan ke sungai E/F/G. Jika memilih F atau G maka kemungkinan satu sungai harus dilewati lebih dari satu kali. Maka dipilihlah sungai E\n",
    "    + Dari E dilanjutkan ke sungai yang terhubung dan searah yaitu sungai H\n",
    "    + Dari sungai H dilanjutkan ke sungai yang berhubungan dan searah yaitu F-G-C\n",
    "    + Jadi lintasan yang dilalui Beaver adalah B-C-G-F-H-E-D-A (output)\n",
    "+ Jika melewati sungai C, maka\n",
    "    + Jika dimulai dari D maka lintasan yang dapat dilalui....\n",
    "    + Jika dimulai dari E maka lintasan yang dapat dilalui...\n",
    "    + Jika dimulai dari F maka lintasan yang dapat dilalui...\n",
    "    + Jika dimulai dari G maka lintasa yang dapat dilalui..."
   ]
  },
  {
   "cell_type": "markdown",
   "metadata": {},
   "source": [
    "### Pertanyaan\n",
    "\n",
    "1. Tulis ulang dan lengkapi algoritma yang ada pada percobaan 2!\n",
    "2. Tuliskan algoritma tentang peraturan SP1, SP2, dan SP3 di JTI Polinema sesuai yang Anda ketahui!"
   ]
  },
  {
   "cell_type": "markdown",
   "metadata": {},
   "source": [
    "### 2.3 Percobaan 1: Menyelesaikan Studi Kasus Tentang Perulangan\n",
    "#### Waktu percobaan : 50 menit\n",
    "\n",
    "1. Terdapat studi kasus mengenai perulangan sebagai berikut :\n",
    "\n",
    "    Terdapat kios berjualan es krim warna warni, dengan 4 warna es krim. Es krim yang dibuat oleh kios tersebut adalah sebagai berikut: Buatlah algoritma untuk kios tersebut agar dapat menghasilkan es krim seperti pada gambar.\n",
    "    \n",
    "    \n",
    "Es krim 1| Es krim 2 | Es krim 3\n",
    ":-------------------------:|:-------------------------:|:---------------:\n",
    "![](images/image-013.png)  |  ![](images/image-014.png) | ![](images/image-015.png)"
   ]
  }
 ],
 "metadata": {
  "kernelspec": {
   "display_name": "Java",
   "language": "java",
   "name": "java"
  },
  "language_info": {
   "codemirror_mode": "java",
   "file_extension": ".jshell",
   "mimetype": "text/x-java-source",
   "name": "Java",
   "pygments_lexer": "java",
   "version": "9.0.4+11"
  }
 },
 "nbformat": 4,
 "nbformat_minor": 1
}
