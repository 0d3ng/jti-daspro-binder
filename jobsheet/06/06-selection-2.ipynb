{
 "cells": [
  {
   "cell_type": "markdown",
   "metadata": {
    "collapsed": true
   },
   "source": [
    "## JOBSHEETS 6\n",
    "\n",
    "## SELECTION-2\n",
    "\n",
    "### Purpose\n",
    "\n",
    "Students understand about logical operators; Students are able to solve problems using nested selection syntax; Students are able to create a Java program that uses nested selection syntax\n",
    "\n",
    "\n",
    "### Tools and materials\n",
    "+ PC/laptop\n",
    "+ Browser(chrome, firefox, safari)\n",
    "+ Internet connection\n",
    "\n",
    "### Practicum\n",
    "\n",
    "#### Experiment 1\n",
    "\n",
    "#### Experiment time : 40 minutes\n",
    "\n",
    "1. Add Scanner library, Scanner declaration\n",
    "\n",
    "2. Create a value variable that has an int data type to accommodate the data inputted via the keyboard\n",
    "\n",
    "     ![](images/img1.png)"
   ]
  },
  {
   "cell_type": "code",
   "execution_count": null,
   "metadata": {},
   "outputs": [],
   "source": [
    "// Type the program code above, below (below this sentence)\n"
   ]
  },
  {
   "cell_type": "markdown",
   "metadata": {},
   "source": [
    "3. Create a nested condition checking structure. The first check is used to ensure that the value entered is in the range 0-100. If the value is in the range 0-100, a student's graduation status will be checked, i.e. if the score is between 90-100 then the value is A, if the score is between 80 – 89 then the value is B, if the value is between 60 – 79 then the value is C, if the value is between 50 – 59 then the value is D, and if the value is between 0 – 49 then the value is E. Meanwhile, if the value is outside the range 0 – 100 , it displays information that the entered value is invalid.\n",
    "\n",
    "     ![](images/img2.png)"
   ]
  },
  {
   "cell_type": "code",
   "execution_count": null,
   "metadata": {},
   "outputs": [],
   "source": [
    "// Type the program code above, below (below this sentence)\n"
   ]
  },
  {
   "cell_type": "markdown",
   "metadata": {},
   "source": [
    "> Explanation of experiment program code 1"
   ]
  },
  {
   "cell_type": "markdown",
   "metadata": {},
   "source": [
    "##### Question\n",
    "\n",
    "1. Modify the program code in Experiment 1 so that if the value entered is less than 0 it will display the output \"The value you entered is less than 0\" and if the value entered is more than 100 it will display the output \"The value you entered is more than 100\"!\n",
    "\n",
    "2. Explain the if syntax function (value >= 0 && value <= 100)!\n",
    "\n",
    "3. Change the && operator to || in the if syntax (value >= 0 && value <= 100). Run the program by entering the value = 105. Observe what happens! Why is that the result?"
   ]
  },
  {
   "cell_type": "code",
   "execution_count": null,
   "metadata": {},
   "outputs": [],
   "source": [
    "//Answers of Questions\n"
   ]
  },
  {
   "cell_type": "markdown",
   "metadata": {},
   "source": [
    "#### Experiment 2\n",
    "\n",
    "#### Experiment time : 40 minutes"
   ]
  },
  {
   "cell_type": "markdown",
   "metadata": {},
   "source": [
    "1. Pay attention to the flowchart below!\n",
    "\n",
    "![](images/img3.png)\n",
    "\n",
    "> The flowchart is used to calculate a person's net salary after deducting taxes according to the category (workers and business people) and the amount of salary."
   ]
  },
  {
   "cell_type": "markdown",
   "metadata": {},
   "source": [
    "2. Add Scanner library and Scanner declaration\n",
    "\n",
    "3. Declare categorical variables, salary, net salary, and taxes\n",
    "\n",
    "     ![](images/img4.png)"
   ]
  },
  {
   "cell_type": "code",
   "execution_count": 1,
   "metadata": {},
   "outputs": [],
   "source": [
    "// Type the program code above, below (below this sentence)\n"
   ]
  },
  {
   "cell_type": "markdown",
   "metadata": {},
   "source": [
    "4. Create a nested condition checking structure. The first check is used to check the category (worker or business people). Next, a second check is carried out to determine the amount of tax based on the salary that has been entered. Then add the program code to calculate the net salary received after tax!\n",
    "\n",
    "     ![](images/img5.png)"
   ]
  },
  {
   "cell_type": "code",
   "execution_count": null,
   "metadata": {},
   "outputs": [],
   "source": [
    "// Type the program code above, below (below this sentence)\n"
   ]
  },
  {
   "cell_type": "markdown",
   "metadata": {},
   "source": [
    "5. Run the above program. Observe what happens!"
   ]
  },
  {
   "cell_type": "markdown",
   "metadata": {},
   "source": [
    "> Explanation of experiment program code 2"
   ]
  },
  {
   "cell_type": "markdown",
   "metadata": {},
   "source": [
    "##### Question\n",
    "\n",
    "1. Run the program by entering category = worker and salary = 2048485. Observe what happens! Why are the numbers after the commas not displayed?\n",
    "\n",
    "2. Explain the function of (int) in the syntax:\n",
    "```\n",
    "netsalary = (int) (salary - (salary * tax));\n",
    "```\n",
    "\n",
    "3. Run the program by entering category = business people and salary = 2000000. Observe what happens! What is the use of equalsIgnoreCase?\n",
    "\n",
    "4. Change equalsIgnoreCase to equals, then run the program by entering category = business people and salary = 2000000. Observe what happens! Why is that the result? What is the use of equals?"
   ]
  },
  {
   "cell_type": "code",
   "execution_count": null,
   "metadata": {},
   "outputs": [],
   "source": [
    "//Answers of Questions\n"
   ]
  },
  {
   "cell_type": "markdown",
   "metadata": {},
   "source": [
    "### Task\n",
    "\n",
    "#### Task time: 140 minutes\n",
    "\n",
    "1. Make a simple calculator program using the Java programming language. The user will input two real numbers and one arithmetic operator (+, -, *, or /), then the program will operate the two numbers with the appropriate operator. Hint: use switch-case statements.\n",
    "Example program display:\n",
    "\n",
    "```\n",
    "Enter the first number: 2.5\n",
    "Enter operators (+, -, *, /): *\n",
    "Enter the second number: 4\n",
    "2.5 * 4.0 = 10.0\n",
    "\n",
    "```"
   ]
  },
  {
   "cell_type": "code",
   "execution_count": null,
   "metadata": {},
   "outputs": [],
   "source": [
    "//type the program code and attach the result here\n"
   ]
  },
  {
   "cell_type": "markdown",
   "metadata": {},
   "source": [
    "2. Using three values that represent the lengths of the three sides of a triangle, determine whether the triangle is equilateral (all three sides are equal), isosceles (both sides are equal), or arbitrary (no sides are equal)!"
   ]
  },
  {
   "cell_type": "code",
   "execution_count": 1,
   "metadata": {},
   "outputs": [],
   "source": [
    "//type the program code and attach the result here\n"
   ]
  },
  {
   "cell_type": "markdown",
   "metadata": {},
   "source": [
    "3. Warung Padang Gembira asks you to create a program to receive orders from the internet. The program you created asks the user to enter the name of the food and the price. After that, the user is offered to use express delivery. If the user refuses, then the type of delivery used is regular delivery. The regular delivery fee for food prices less than IDR 100,000 is IDR 20,000, while for food prices equal to or more than IDR 100,000 the delivery fee is IDR 30,000. For express delivery, add an additional fee of IDR 25,000 from the standard regular shipping fee. Show receipts containing the name of the food purchased + price, delivery fee and total to be paid!\n",
    "Example of program output:\n",
    "\n",
    "```\n",
    "Enter food name: Tuna salad\n",
    "Enter food price: IDR 115000\n",
    "Do you want express delivery (0 = no, 1 = yes)? 0\n",
    "\n",
    "RECEIPT\n",
    "Tuna salad IDR 115000\n",
    "Shipping fee IDR 30000\n",
    "TOTAL IDR 145000\n",
    "\n",
    "```\n",
    "\n",
    "```\n",
    "Enter food name: Beef bulgogi\n",
    "Enter food price: IDR 78000\n",
    "Do you want express delivery (0 = no, 1 = yes)? 1\n",
    "\n",
    "RECEIPT\n",
    "Beef bulgogi Rp 115000\n",
    "Shipping cost IDR 45000\n",
    "TOTAL IDR 123000\n",
    "\n",
    "```"
   ]
  },
  {
   "cell_type": "code",
   "execution_count": null,
   "metadata": {},
   "outputs": [],
   "source": [
    "//type the program code and attach the result here\n"
   ]
  },
  {
   "cell_type": "markdown",
   "metadata": {},
   "source": [
    "4. Pay attention to the following flowchart!\n",
    "\n",
    "![](images/img6.png)\n",
    "\n",
    "> Make a program according to the flowchart above!"
   ]
  },
  {
   "cell_type": "code",
   "execution_count": 2,
   "metadata": {},
   "outputs": [],
   "source": [
    "//type the program code and attach the result here\n"
   ]
  },
  {
   "cell_type": "code",
   "execution_count": null,
   "metadata": {},
   "outputs": [],
   "source": []
  }
 ],
 "metadata": {
  "kernelspec": {
   "display_name": "Java",
   "language": "java",
   "name": "java"
  },
  "language_info": {
   "codemirror_mode": "java",
   "file_extension": ".jshell",
   "mimetype": "text/x-java-source",
   "name": "Java",
   "pygments_lexer": "java",
   "version": "18-ea+16-926"
  },
  "nteract": {
   "version": "nteract-on-jupyter@2.1.3"
  }
 },
 "nbformat": 4,
 "nbformat_minor": 1
}
